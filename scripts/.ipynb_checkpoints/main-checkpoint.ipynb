{
 "cells": [
  {
   "cell_type": "markdown",
   "metadata": {},
   "source": [
    "# AdPMCMC on model $M_0$"
   ]
  },
  {
   "cell_type": "code",
   "execution_count": 1,
   "metadata": {},
   "outputs": [
    {
     "name": "stdout",
     "output_type": "stream",
     "text": [
      "Populating the interactive namespace from numpy and matplotlib\n"
     ]
    }
   ],
   "source": [
    "import warnings\n",
    "warnings.filterwarnings(\"ignore\")\n",
    "\n",
    "import numpy as np\n",
    "\n",
    "from scipy.stats import invgamma\n",
    "\n",
    "import matplotlib.pyplot as plt\n",
    "import seaborn\n",
    "%pylab inline"
   ]
  },
  {
   "cell_type": "markdown",
   "metadata": {},
   "source": [
    "Model $M_0$ : \n",
    "\\begin{equation}\n",
    "\\log N_{t+1} = \\log N_t + b_0 + \\epsilon_t\n",
    "\\end{equation}\n",
    "\n",
    "with $\\epsilon_t \\sim \\mathcal{N}(0, \\sigma_\\epsilon^2)$. \n",
    "\n",
    "We put a Gaussian prior on the maximum per-individual growth rate parameter : $b_0 \\sim \\mathcal{N}(0, 1)$.\n",
    "We use inverse Gamma priors for the variance noises :\n",
    "\n",
    "$\\sigma_\\epsilon^2 \\sim \\mathcal{IG}(\\alpha_\\epsilon, \\beta_\\epsilon)$\n",
    "\n",
    "$\\sigma_w^2 \\sim \\mathcal{IG}(\\alpha_w, \\beta_w)$\n",
    "\n",
    "with hyperpameters $\\alpha_\\epsilon=\\alpha_w=T/2$ and $\\beta_\\epsilon=\\beta_w=\\frac{2(\\alpha_\\epsilon-1)}{10}$.\n",
    "\n",
    "For synthetic data simulation, the authors set :"
   ]
  },
  {
   "cell_type": "code",
   "execution_count": 139,
   "metadata": {
    "collapsed": true
   },
   "outputs": [],
   "source": [
    "b_0 = 0.15\n",
    "theta = 0.1\n",
    "sigma_w = 0.39\n",
    "sigma_eps = 0.47\n",
    "n_0 = 1.17\n",
    "T = 50\n",
    "\n",
    "# prior hyperparameters\n",
    "alpha_eps = alpha_w =  T/2\n",
    "beta_eps = beta_w = 2*(alpha_eps -1)/10"
   ]
  },
  {
   "cell_type": "code",
   "execution_count": 140,
   "metadata": {
    "collapsed": true
   },
   "outputs": [],
   "source": [
    "def trajectorySimulationM0(T):\n",
    "    log_N = np.zeros(T+1)\n",
    "    log_N[0] = 1.17\n",
    "    for t in range(T):\n",
    "        log_N[t+1] = log_N[t] + b_0 + np.random.normal(0, sigma_eps**2)\n",
    "    Y = np.exp(log_N) + np.random.normal(0, sigma_w**2, T+1)\n",
    "    return(log_N, Y)"
   ]
  },
  {
   "cell_type": "markdown",
   "metadata": {},
   "source": [
    "Problem : $g_t$ from the observation process is not defined in the paper.\n",
    "\n",
    "Since, in the paper, $p(y_t | n_t, \\sigma^2_w)$ is assumed to be the density of a Gaussian distribution with mean $n_t$ and variance $\\sigma^2_w$, I assume $g_t$ is the identity function."
   ]
  },
  {
   "cell_type": "code",
   "execution_count": 141,
   "metadata": {
    "scrolled": false
   },
   "outputs": [
    {
     "data": {
      "image/png": "[encoded data removed]",
      "text/plain": [
       "<matplotlib.figure.Figure at 0x114403278>"
      ]
     },
     "metadata": {},
     "output_type": "display_data"
    }
   ],
   "source": [
    "log_N, Y = trajectorySimulationM0(T)\n",
    "\n",
    "f, (ax1, ax2) = plt.subplots(1, 2)\n",
    "st = f.suptitle(\"Simulated data\", fontsize=\"x-large\")\n",
    "\n",
    "ax1.plot(log_N)\n",
    "ax1.set_title('Latent process (log scale)')\n",
    "ax2.plot(Y)\n",
    "ax2.set_title('Observation process')\n",
    "\n",
    "plt.tight_layout()\n",
    "\n",
    "st.set_y(0.95)\n",
    "f.subplots_adjust(top=0.80)"
   ]
  },
  {
   "cell_type": "markdown",
   "metadata": {},
   "source": [
    "TODO : \n",
    "\n",
    "- define theta properly (dictionary)\n",
    "- define function as generic as possible\n",
    "- adaptive proposal (algo 2)"
   ]
  },
  {
   "cell_type": "markdown",
   "metadata": {},
   "source": [
    "## Stage 1 : Annealed PMCMC\n",
    "\n"
   ]
  },
  {
   "cell_type": "markdown",
   "metadata": {},
   "source": [
    "Random initialization of the parameters $(\\theta, N_{1:T})$, followed by annealed AdPMCMC using a sequence of distribuitons :\n",
    "\n",
    "\\begin{equation}\n",
    "p_n(\\theta, N_{1:T} | y_{1:T}) = p(\\theta, N_{1:T})^{1-\\gamma_n}p(y_{1:T}|\\theta, N_{1:T})^{\\gamma_n}\n",
    "\\end{equation}\n",
    "\n",
    "(in the model $M_0$, $\\theta = (b_0, \\sigma_\\epsilon, \\sigma_w)$"
   ]
  },
  {
   "cell_type": "code",
   "execution_count": 142,
   "metadata": {},
   "outputs": [
    {
     "data": {
      "text/plain": [
       "(0.20335481587069895, 0.17425305111309597)"
      ]
     },
     "execution_count": 142,
     "metadata": {},
     "output_type": "execute_result"
    }
   ],
   "source": [
    "n_steps = 500\n",
    "\n",
    "# Random initialization\n",
    "sigma_eps = invgamma.rvs(a=alpha_eps, scale=beta_eps)\n",
    "sigma_w = invgamma.rvs(a=alpha_w, scale=beta_w)\n",
    "sigma_eps, sigma_w"
   ]
  },
  {
   "cell_type": "markdown",
   "metadata": {},
   "source": [
    "## Stage 2 : Non adaptive PMCMC"
   ]
  },
  {
   "cell_type": "code",
   "execution_count": 143,
   "metadata": {
    "collapsed": true
   },
   "outputs": [],
   "source": [
    "from scipy.stats import norm\n",
    "\n",
    "def f(n, n_prev, b_0, sigma_eps):\n",
    "    \"\"\"\n",
    "    Markovian density\n",
    "    \"\"\"\n",
    "    return norm.pdf(n, n_prev + b_0, sigma_eps)\n",
    "\n",
    "def g(y, log_n, sigma_w):\n",
    "    \"\"\"\n",
    "    Observation process\n",
    "    \"\"\"\n",
    "    return norm.pdf(y, np.exp(log_n), sigma_w)\n",
    "\n",
    "def stratifiedResampling(weights):\n",
    "    \"\"\"\n",
    "    Stratified resampling\n",
    "    Needs to be changed to return array of indexes\n",
    "    \"\"\"\n",
    "    n_samples = weights.shape[0]\n",
    "        \n",
    "    # Generate n_samples sorted uniforms with stratified sampling\n",
    "    sorted_uniforms = np.zeros(n_samples)\n",
    "    for n in range(n_samples):\n",
    "        sorted_uniforms[n] = np.random.uniform(n/n_samples, (n+1)/n_samples)\n",
    "        \n",
    "    sampled_indexes = []\n",
    "    j, partial_sum_weights = 0, weights[0]\n",
    "    for n in range(n_samples):\n",
    "        while sorted_uniforms[n] > partial_sum_weights:\n",
    "            j += 1\n",
    "            partial_sum_weights += weights[j]\n",
    "        sampled_indexes += [j]\n",
    "        \n",
    "    return sampled_indexes"
   ]
  },
  {
   "cell_type": "code",
   "execution_count": 144,
   "metadata": {
    "collapsed": true
   },
   "outputs": [],
   "source": [
    "# theta proposal\n",
    "def nonAdaptiveThetaProposal(theta):\n",
    "    d = theta.shape[0]\n",
    "    return np.random.multivariate_normal(theta, (0.1)**2/d * np.eye(d))"
   ]
  },
  {
   "cell_type": "code",
   "execution_count": 148,
   "metadata": {
    "collapsed": true
   },
   "outputs": [],
   "source": [
    "# n | theta proposal\n",
    "def SMC(y, theta, T, L, n_0, b_0, sigma_eps, sigma_w):\n",
    "    \n",
    "    # L is the number of particles\n",
    "    log_particles = np.zeros((T, L))\n",
    "    \n",
    "    # Weights matrix\n",
    "    W = np.zeros((T, L))\n",
    "    \n",
    "    # Initial propagation\n",
    "    log_particles[0, :] = np.log(n_0) + b_0 + np.random.normal(0, sigma_eps, L)\n",
    "    \n",
    "    # Not sure about W initialization\n",
    "    for l in range(L):\n",
    "        W[0, l] = g(y[0], log_particles[0, l], sigma_w)\n",
    "    \n",
    "    for t in range(1, T):\n",
    "        for l in range(L):\n",
    "            # Propagation\n",
    "            log_particles[t, l] = log_particles[t-1, l] + b_0 + np.random.normal(0, sigma_eps)\n",
    "            \n",
    "            # Weight computation\n",
    "            W[t, l] = W[t-1, l]*g(y[t], log_particles[t, l], sigma_w)\n",
    "                \n",
    "        # Weight normalization\n",
    "        W[t, :] /= sum(W[t, :])\n",
    "        \n",
    "        # Adaptive resampling\n",
    "        ESS = 1/sum(W[t,:]**2)\n",
    "        if ESS < 0.8*L:\n",
    "            # resample indexes according to the normalized importance weights\n",
    "            resampled_indexes = stratifiedResampling(W[t, :]) \n",
    "            log_particles[t, :] = log_particles[t, resampled_indexes]\n",
    "            W[t, :] = np.ones(L)/L # the new particles have equal weight\n",
    "    \n",
    "    # Evaluate marginal likelihood\n",
    "    marginal_likelihood = np.prod(np.sum(W, axis=1)/L)\n",
    "    \n",
    "    return log_particles, W, marginal_likelihood"
   ]
  },
  {
   "cell_type": "code",
   "execution_count": 149,
   "metadata": {},
   "outputs": [],
   "source": [
    "# test\n",
    "\n",
    "log_n, y = trajectorySimulationM0(T)\n",
    "\n",
    "L = 100\n",
    "\n",
    "log_particles, W, marginal_likelihood = SMC(y, theta, T, L, n_0, b_0, sigma_eps, sigma_w)\n",
    "\n",
    "log_particles_averaged = [np.average(log_particles[t,:], weights=W[t,:], axis=0) for t in range(T)]"
   ]
  },
  {
   "cell_type": "code",
   "execution_count": 150,
   "metadata": {
    "scrolled": true
   },
   "outputs": [
    {
     "data": {
      "text/plain": [
       "[<matplotlib.lines.Line2D at 0x11456bda0>]"
      ]
     },
     "execution_count": 150,
     "metadata": {},
     "output_type": "execute_result"
    },
    {
     "data": {
      "image/png": "[encoded data removed]",
      "text/plain": [
       "<matplotlib.figure.Figure at 0x11456be48>"
      ]
     },
     "metadata": {},
     "output_type": "display_data"
    }
   ],
   "source": [
    "plt.plot(log_n)\n",
    "plt.plot(log_particles_averaged)\n",
    "# bug due to numerical errors "
   ]
  },
  {
   "cell_type": "code",
   "execution_count": 21,
   "metadata": {
    "collapsed": true
   },
   "outputs": [],
   "source": [
    "# Metropolis "
   ]
  },
  {
   "cell_type": "markdown",
   "metadata": {},
   "source": [
    "## Stage 3 : Adaptive PMCMC"
   ]
  },
  {
   "cell_type": "code",
   "execution_count": null,
   "metadata": {
    "collapsed": true
   },
   "outputs": [],
   "source": []
  }
 ],
 "metadata": {
  "kernelspec": {
   "display_name": "Python 3",
   "language": "python",
   "name": "python3"
  },
  "language_info": {
   "codemirror_mode": {
    "name": "ipython",
    "version": 3
   },
   "file_extension": ".py",
   "mimetype": "text/x-python",
   "name": "python",
   "nbconvert_exporter": "python",
   "pygments_lexer": "ipython3",
   "version": "3.5.3"
  }
 },
 "nbformat": 4,
 "nbformat_minor": 2
}
