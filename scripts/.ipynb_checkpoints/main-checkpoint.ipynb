{
 "cells": [
  {
   "cell_type": "markdown",
   "metadata": {},
   "source": [
    "# AdPMCMC on model $M_2$"
   ]
  },
  {
   "cell_type": "code",
   "execution_count": 13,
   "metadata": {},
   "outputs": [
    {
     "name": "stdout",
     "output_type": "stream",
     "text": [
      "Populating the interactive namespace from numpy and matplotlib\n"
     ]
    }
   ],
   "source": [
    "import warnings\n",
    "warnings.filterwarnings(\"ignore\")\n",
    "\n",
    "import numpy as np\n",
    "\n",
    "import scipy\n",
    "from scipy.stats import invgamma\n",
    "from scipy.stats import norm\n",
    "\n",
    "import matplotlib.pyplot as plt\n",
    "import seaborn\n",
    "%pylab inline\n",
    "\n",
    "from numba import jit\n",
    "from numpy import arange"
   ]
  },
  {
   "cell_type": "markdown",
   "metadata": {},
   "source": [
    "We begin by considering the model $M_0$ : \n",
    "\\begin{equation}\n",
    "\\log N_{t+1} = \\log N_t + b_0 + \\epsilon_t\n",
    "\\end{equation}\n",
    "\n",
    "with $\\epsilon_t \\sim \\mathcal{N}(0, \\sigma_\\epsilon^2)$. \n",
    "\n",
    "We put a Gaussian prior on the maximum per-individual growth rate parameter : $b_0 \\sim \\mathcal{N}(0, 1)$.\n",
    "We use inverse Gamma priors for the variance noises :\n",
    "\n",
    "$\\sigma_\\epsilon^2 \\sim \\mathcal{IG}(\\alpha_\\epsilon, \\beta_\\epsilon)$\n",
    "\n",
    "$\\sigma_w^2 \\sim \\mathcal{IG}(\\alpha_w, \\beta_w)$\n",
    "\n",
    "with hyperpameters $\\alpha_\\epsilon=\\alpha_w=\\frac{T}{2}$ and $\\beta_\\epsilon=\\beta_w=\\frac{2(\\alpha_\\epsilon-1)}{10}$.\n",
    "\n",
    "For synthetic data simulation, the authors set :"
   ]
  },
  {
   "cell_type": "code",
   "execution_count": 14,
   "metadata": {
    "collapsed": true
   },
   "outputs": [],
   "source": [
    "# model parameters\n",
    "b_0 = 0.15 \n",
    "b_2 = -0.125\n",
    "b_3 = 0.1\n",
    "sigma_w = 0.39 # observation noise\n",
    "sigma_eps = 0.47 # process noise\n",
    "n_0 = 1.27 # starting point of latent variable\n",
    "T = 30 # time horizon\n",
    "\n",
    "# inverse gamma prior hyperparameters\n",
    "alpha_eps = alpha_w =  T/2 \n",
    "beta_eps = beta_w = 2*(alpha_eps - 1)/10"
   ]
  },
  {
   "cell_type": "code",
   "execution_count": 3,
   "metadata": {
    "collapsed": true
   },
   "outputs": [],
   "source": [
    "@jit\n",
    "def trajectorySimulationM0(T):\n",
    "    \"\"\"\n",
    "    Simulates latent variable and observation trajectories of horizon T for the M_0 model\n",
    "    \"\"\"\n",
    "    \n",
    "    # Initialization of latent variable trajectory\n",
    "    log_N = np.zeros(T+1)\n",
    "    \n",
    "    # Arbitrary initialization (found in the paper p. 12)\n",
    "    log_N[0] = np.log(n_0)\n",
    "    \n",
    "    # Latent variable simulation\n",
    "    for t in range(T):\n",
    "        log_N[t+1] = log_N[t] + b_0 + np.random.normal(0, sigma_eps)\n",
    "    \n",
    "    # Observation variable\n",
    "    Y = np.exp(log_N) + np.random.normal(0, sigma_w, T+1)\n",
    "    \n",
    "    return log_N, Y"
   ]
  },
  {
   "cell_type": "code",
   "execution_count": 15,
   "metadata": {
    "collapsed": true
   },
   "outputs": [],
   "source": [
    "@jit\n",
    "def trajectorySimulationM2(T):\n",
    "    \"\"\"\n",
    "    Simulates latent variable and observation trajectories of horizon T for the M_0 model\n",
    "    \"\"\"\n",
    "    \n",
    "    # Initialization of latent variable trajectory\n",
    "    log_N = np.zeros(T+1)\n",
    "    \n",
    "    # Arbitrary initialization (found in the paper p. 12)\n",
    "    log_N[0] = np.log(n_0)\n",
    "    \n",
    "    # Latent variable simulation\n",
    "    for t in range(T):\n",
    "        log_N[t+1] = log_N[t] + b_0 + b_2*np.exp(log_N[t])**b_3 +np.random.normal(0, sigma_eps)\n",
    "    \n",
    "    # Observation variable\n",
    "    Y = np.exp(log_N) + np.random.normal(0, sigma_w, T+1)\n",
    "    \n",
    "    return log_N, Y"
   ]
  },
  {
   "cell_type": "markdown",
   "metadata": {},
   "source": [
    "Problem : $g_t$ from the observation process is not defined in the paper.\n",
    "\n",
    "Since, in the paper, $p(y_t | n_t, \\sigma^2_w)$ is assumed to be the density of a Gaussian distribution with mean $n_t$ and variance $\\sigma^2_w$, I assume $g_t$ is the identity function."
   ]
  },
  {
   "cell_type": "code",
   "execution_count": 36,
   "metadata": {
    "scrolled": true
   },
   "outputs": [
    {
     "data": {
      "image/png": "[encoded data removed]",
      "text/plain": [
       "<matplotlib.figure.Figure at 0x11435c048>"
      ]
     },
     "metadata": {},
     "output_type": "display_data"
    }
   ],
   "source": [
    "# Simulate and plot a trajectory\n",
    "log_N, Y = trajectorySimulationM2(T)\n",
    "\n",
    "f, (ax1, ax2) = plt.subplots(1, 2)\n",
    "st = f.suptitle(\"Simulated data\", fontsize=\"x-large\")\n",
    "\n",
    "ax1.plot(log_N)\n",
    "ax1.set_title('Latent process (log scale)')\n",
    "ax2.plot(Y)\n",
    "ax2.set_title('Observation process')\n",
    "\n",
    "plt.tight_layout()\n",
    "\n",
    "st.set_y(0.95)\n",
    "f.subplots_adjust(top=0.80)"
   ]
  },
  {
   "cell_type": "markdown",
   "metadata": {},
   "source": [
    "## MCMC proposal for $\\theta$"
   ]
  },
  {
   "cell_type": "code",
   "execution_count": 28,
   "metadata": {
    "collapsed": true
   },
   "outputs": [],
   "source": [
    "# non-adaptive theta proposal\n",
    "@jit\n",
    "def nonAdaptiveThetaProposal(theta):\n",
    "    \"\"\" \n",
    "    Non-adaptive Gaussian kernel for parameter proposal\n",
    "    \"\"\"\n",
    "    d = theta.shape[0]\n",
    "    return np.random.multivariate_normal(theta, (0.1)**2 / d * np.eye(d))"
   ]
  },
  {
   "cell_type": "code",
   "execution_count": 29,
   "metadata": {
    "collapsed": true
   },
   "outputs": [],
   "source": [
    "# adaptive theta proposal\n",
    "def adaptiveThetaProposal(thetas):\n",
    "    \"\"\" \n",
    "    Adaptive Gaussian kernel for parameter proposal\n",
    "    See algorithm 2 of paper\n",
    "    \"\"\"\n",
    "    emp_cov = np.cov(thetas, rowvar=False)\n",
    "    theta = thetas[-1]\n",
    "    d = theta.shape[0]\n",
    "    return np.random.multivariate_normal(theta, 2.38**2 / d * emp_cov)"
   ]
  },
  {
   "cell_type": "markdown",
   "metadata": {},
   "source": [
    "## SMC sampler for $n_{1:T}$"
   ]
  },
  {
   "cell_type": "code",
   "execution_count": 30,
   "metadata": {
    "collapsed": true
   },
   "outputs": [],
   "source": [
    "def g(y, log_n, sigma_w):\n",
    "    \"\"\"\n",
    "    Gaussian log-density for observation process\n",
    "    \"\"\"\n",
    "    return -0.5*np.log(2*np.pi*sigma_w**2) - (y - np.exp(log_n))**2/(2*sigma_w**2)\n",
    "\n",
    "@jit\n",
    "def stratifiedResampling(weights):\n",
    "    \"\"\"\n",
    "    Stratified resampling\n",
    "    Returns drawn indexes as a list\n",
    "    weights needs to be a numpy array\n",
    "    \"\"\"\n",
    "    n_samples = weights.shape[0]\n",
    "        \n",
    "    # Generate n_samples sorted uniforms with stratified sampling\n",
    "    sorted_uniforms = np.zeros(n_samples)\n",
    "    for n in range(n_samples):\n",
    "        sorted_uniforms[n] = np.random.uniform(n/n_samples, (n+1)/n_samples)\n",
    "        \n",
    "    sampled_indexes = []\n",
    "    j, partial_sum_weights = 0, weights[0]\n",
    "    for n in range(n_samples):\n",
    "        while sorted_uniforms[n] > partial_sum_weights:\n",
    "            j += 1\n",
    "            partial_sum_weights += weights[j]\n",
    "        sampled_indexes += [j]\n",
    "        \n",
    "    return sampled_indexes\n",
    "\n",
    "def q(theta_prev, theta):\n",
    "    \"\"\"\n",
    "    Density of non-adaptive proposal kernel\n",
    "    \"\"\"\n",
    "    d = theta.shape[0]\n",
    "    return scipy.stats.multivariate_normal.pdf(theta, theta_prev, (0.1)**2/d * np.eye(d))"
   ]
  },
  {
   "cell_type": "markdown",
   "metadata": {},
   "source": [
    "In the paper, there seems to be a simulation of $b_0$ per particles, see Algorithm 1, p.31, this seems odd."
   ]
  },
  {
   "cell_type": "markdown",
   "metadata": {},
   "source": [
    "See \"Log-PF: Particle Filtering in Logarithm Domain\" for log-normalization of weights"
   ]
  },
  {
   "cell_type": "code",
   "execution_count": 31,
   "metadata": {},
   "outputs": [
    {
     "data": {
      "text/plain": [
       "(0.44253068453234556, 0.39105874761780185)"
      ]
     },
     "execution_count": 31,
     "metadata": {},
     "output_type": "execute_result"
    }
   ],
   "source": [
    "# Random initialization\n",
    "sigma_eps = (invgamma.rvs(a=alpha_eps, scale=beta_eps))**(1 / 2)\n",
    "sigma_w = invgamma.rvs(a=alpha_w, scale=beta_w)**(1 / 2)\n",
    "sigma_eps, sigma_w"
   ]
  },
  {
   "cell_type": "code",
   "execution_count": 54,
   "metadata": {
    "collapsed": true
   },
   "outputs": [],
   "source": [
    "# n | theta proposal\n",
    "@jit\n",
    "def SMC_M0(y, T, L, n_0, b_0, sigma_eps, sigma_w):\n",
    "    \"\"\"\n",
    "    Particle filter \n",
    "    \"\"\"\n",
    "    \n",
    "    # L is the number of particles\n",
    "    log_particles = np.zeros((T, L))\n",
    "    \n",
    "    w = np.zeros((T, L))\n",
    "    \n",
    "    # Weights matrix\n",
    "    W = np.zeros((T, L))\n",
    "        \n",
    "    # Log-weights matrix\n",
    "    log_W = np.zeros((T, L))\n",
    "    \n",
    "    # Initial propagation\n",
    "    log_particles[0, :] = np.log(n_0) + b_0 + np.random.normal(loc=0, scale=sigma_eps, size=L)\n",
    "    \n",
    "    # Not sure about W initialization\n",
    "    for l in range(L):\n",
    "        w[0, l] = g(y[0], log_particles[0, l], sigma_w)\n",
    "        log_W[0, l] = w[0, l]\n",
    "    \n",
    "    # Weight normalization (log scale)\n",
    "    log_W[0, :] -= np.max(log_W[0, :]) # scaling   \n",
    "    log_sum_of_weights = np.log(sum(np.exp(log_W[0, :]))) \n",
    "    log_W[0, :] -= log_sum_of_weights\n",
    "    \n",
    "    W[0, :] = np.exp(W[0, :])\n",
    "    \n",
    "    for t in range(1, T):\n",
    "        for l in range(L):\n",
    "            # Propagation\n",
    "            log_particles[t, l] = log_particles[t-1, l] + b_0 + np.random.normal(0, sigma_eps)\n",
    "                        \n",
    "            # Weight computation\n",
    "            w[t, l] = g(y[t], log_particles[t, l], sigma_w)\n",
    "            log_W[t, l] = log_W[t-1, l] + w[t, l]\n",
    "                \n",
    "        # Weight normalization (log scale)\n",
    "        log_W[t, :] -= np.max(log_W[t, :]) # scaling   \n",
    "        log_sum_of_weights = np.log(sum(np.exp(log_W[t, :]))) \n",
    "        log_W[t, :] -= log_sum_of_weights\n",
    "                            \n",
    "        # Adaptive resampling : sample if ESS < 80% of number of particles\n",
    "        ESS = 1/sum(np.exp(log_W[t, :])**2)\n",
    "        \n",
    "        # Pb : ESS is always < 0.8*L \n",
    "                \n",
    "        if ESS < 0.8*L:\n",
    "            # resample indexes according to the normalized importance weights\n",
    "            resampled_indexes = stratifiedResampling(np.exp(log_W[t, :]))\n",
    "            log_particles[t, :] = log_particles[t, resampled_indexes]\n",
    "            log_W[t, :] = np.log(np.ones(L)/L) # the new particles have equal weight\n",
    "        \n",
    "        W[t, :] = np.exp(log_W[t, :])\n",
    "        \n",
    "    # Evaluate marginal likelihood\n",
    "        \n",
    "    marginal_likelihood = np.sum(np.log(np.sum(np.exp(w), axis=1)/L))     \n",
    "        \n",
    "    return log_particles, W, log_marginal_likelihood"
   ]
  },
  {
   "cell_type": "code",
   "execution_count": 55,
   "metadata": {
    "collapsed": true
   },
   "outputs": [],
   "source": [
    "# n | theta proposal\n",
    "@jit\n",
    "def SMC_M2(y, T, L, n_0, b_0, sigma_eps, sigma_w):\n",
    "    \"\"\"\n",
    "    Particle filter \n",
    "    \"\"\"\n",
    "    \n",
    "    # L is the number of particles\n",
    "    log_particles = np.zeros((T, L))\n",
    "    \n",
    "    w = np.zeros((T, L))\n",
    "    \n",
    "    # Weights matrix\n",
    "    W = np.zeros((T, L))\n",
    "        \n",
    "    # Log-weights matrix\n",
    "    log_W = np.zeros((T, L))\n",
    "    \n",
    "    # Initial propagation\n",
    "    log_particles[0, :] = np.log(n_0) + b_0 + b_2*n_0**b_3 + np.random.normal(loc=0, scale=sigma_eps, size=L)\n",
    "    \n",
    "    # Not sure about W initialization\n",
    "    for l in range(L):\n",
    "        w[0, l] = g(y[0], log_particles[0, l], sigma_w)\n",
    "        log_W[0, l] = w[0, l]\n",
    "    \n",
    "    # Weight normalization (log scale)\n",
    "    log_W[0, :] -= np.max(log_W[0, :]) # scaling   \n",
    "    log_sum_of_weights = np.log(sum(np.exp(log_W[0, :]))) \n",
    "    log_W[0, :] -= log_sum_of_weights\n",
    "    \n",
    "    W[0, :] = np.exp(W[0, :])\n",
    "    \n",
    "    for t in range(1, T):\n",
    "        for l in range(L):\n",
    "            # Propagation\n",
    "            log_particles[t, l] = log_particles[t-1, l] + b_0 + b_2*np.exp(log_particles[t-1, l])**b_3 + np.random.normal(0, sigma_eps)\n",
    "                        \n",
    "            # Weight computation\n",
    "            w[t, l] = g(y[t], log_particles[t, l], sigma_w)\n",
    "            log_W[t, l] = log_W[t-1, l] + w[t, l]\n",
    "                \n",
    "        # Weight normalization (log scale)\n",
    "        log_W[t, :] -= np.max(log_W[t, :]) # scaling   \n",
    "        log_sum_of_weights = np.log(sum(np.exp(log_W[t, :]))) \n",
    "        log_W[t, :] -= log_sum_of_weights\n",
    "                            \n",
    "        # Adaptive resampling : sample if ESS < 80% of number of particles\n",
    "        ESS = 1/sum(np.exp(log_W[t, :])**2)\n",
    "        \n",
    "        # Pb : ESS is always < 0.8*L \n",
    "                \n",
    "        if ESS < 0.8*L:\n",
    "            # resample indexes according to the normalized importance weights\n",
    "            resampled_indexes = stratifiedResampling(np.exp(log_W[t, :]))\n",
    "            log_particles[t, :] = log_particles[t, resampled_indexes]\n",
    "            log_W[t, :] = np.log(np.ones(L)/L) # the new particles have equal weight\n",
    "        \n",
    "        W[t, :] = np.exp(log_W[t, :])\n",
    "        \n",
    "    # Evaluate marginal likelihood\n",
    "        \n",
    "    log_marginal_likelihood = np.sum(np.log(np.sum(np.exp(w), axis=1)/L))   \n",
    "        \n",
    "    return log_particles, W, log_marginal_likelihood"
   ]
  },
  {
   "cell_type": "code",
   "execution_count": 58,
   "metadata": {
    "scrolled": true
   },
   "outputs": [
    {
     "data": {
      "text/plain": [
       "<matplotlib.legend.Legend at 0x11a66d9e8>"
      ]
     },
     "execution_count": 58,
     "metadata": {},
     "output_type": "execute_result"
    },
    {
     "data": {
      "image/png": "[encoded data removed]",
      "text/plain": [
       "<matplotlib.figure.Figure at 0x11a6a4400>"
      ]
     },
     "metadata": {},
     "output_type": "display_data"
    }
   ],
   "source": [
    "L = 500\n",
    "\n",
    "log_particles, W, log_marginal_likelihood = SMC_M2(Y, T, L, n_0, b_0, sigma_eps, sigma_w)\n",
    "\n",
    "log_particles_averaged = [np.average(log_particles[t, :], weights=W[t, :], axis=0) \n",
    "                          for t in range(T)]\n",
    "\n",
    "plt.plot(log_N[:-1])\n",
    "plt.plot(log_particles) \n",
    "plt.legend([\"Simulated trajectory\", \"Estimated trajectory\"])"
   ]
  },
  {
   "cell_type": "markdown",
   "metadata": {},
   "source": [
    "## Stage 3 : Generic PMCMC"
   ]
  },
  {
   "cell_type": "markdown",
   "metadata": {},
   "source": [
    "There seems to be a pb with marginal_eps_ratio and marginal_w_ratio"
   ]
  },
  {
   "cell_type": "code",
   "execution_count": 81,
   "metadata": {},
   "outputs": [],
   "source": [
    "n_steps = 1000\n",
    "L = 500\n",
    "\n",
    "# draw uniforms for accept-reject procedure\n",
    "uniforms = np.random.uniform(0, 1, n_steps)\n",
    "\n",
    "# adaptive rate \n",
    "w = 0  # set to 0 -> non-adaptive proposal\n",
    "\n",
    "# trajectory history\n",
    "N_hist = []\n",
    "\n",
    "# Theta initialization\n",
    "b_0 = np.random.normal(0, 1)\n",
    "sigma_eps = invgamma.rvs(a=alpha_eps, scale=beta_eps)**(1 / 2)\n",
    "sigma_w = invgamma.rvs(a=alpha_w, scale=beta_w)**(1 / 2)\n",
    "\n",
    "theta = np.array([b_0, sigma_eps, sigma_w])\n",
    "theta_hist = [theta]\n",
    "\n",
    "for j in range(n_steps):\n",
    "    \n",
    "    # draw candidate theta wrt non adaptive proposal\n",
    "    if np.random.rand() < 1 - w:\n",
    "        theta = nonAdaptiveThetaProposal(theta)\n",
    "    else:\n",
    "        theta = adaptiveThetaProposal(theta_hist)\n",
    "        \n",
    "    # unpack theta\n",
    "    b_0, sigma_eps, sigma_w = theta\n",
    "    \n",
    "    #what we really care about is sigma**2\n",
    "    sigma_eps, sigma_w = np.abs(sigma_eps), np.abs(sigma_w) \n",
    "    theta = np.array([b_0, sigma_eps, sigma_w])\n",
    "    \n",
    "    # run SMC\n",
    "    log_particles, W, log_marginal_likelihood = SMC(\n",
    "        Y, T, L, n_0, b_0, sigma_eps, sigma_w)\n",
    "\n",
    "    # sample a candidate path\n",
    "    idx = np.random.choice(a=L, size=1, p=W[-1])[0]\n",
    "    candidate_path = log_particles[:, idx]\n",
    "\n",
    "    # compute acceptance proba\n",
    "    if j == 0:\n",
    "        alpha = 1\n",
    "    else:\n",
    "        \n",
    "        # last accepted theta\n",
    "        b_0_prev, sigma_eps_prev, sigma_w_prev = theta_hist[-1]\n",
    "        \n",
    "        marginal_likelihood_ratio = np.exp(log_marginal_likelihood - prev_log_marginal_likelihood)\n",
    "        \n",
    "        marginal_b_ratio = np.exp((b_0_prev**2 - b_0**2) / 2)\n",
    "        \n",
    "        marginal_eps_ratio = (invgamma.pdf(x=sigma_eps**2, a=alpha_eps, scale=beta_eps) / \n",
    "                              invgamma.pdf(x=sigma_eps_prev**2, a=alpha_eps, scale=beta_eps))\n",
    "        \n",
    "        marginal_w_ratio = (invgamma.pdf(x=sigma_w**2, a=alpha_w, scale=beta_w) / \n",
    "                            invgamma.pdf(x=sigma_w_prev**2, a=alpha_w, scale=beta_w))\n",
    "        \n",
    "        theta_proposal_ratio = q(theta, theta_hist[-1]) / q(theta_hist[-1], theta)\n",
    "        \n",
    "        \n",
    "        \n",
    "        \n",
    "        alpha = (marginal_likelihood_ratio * marginal_b_ratio * \n",
    "                 marginal_eps_ratio * marginal_w_ratio * theta_proposal_ratio)\n",
    "        \n",
    "        #print('Alpha : {}'.format(alpha))\n",
    "        #print(marginal_likelihood_ratio)\n",
    "        #print(marginal_b_ratio)\n",
    "        #print(marginal_eps_ratio)\n",
    "        #print(marginal_w_ratio)\n",
    "        #print(theta_proposal_ratio)\n",
    "        \n",
    "    if uniforms[j] < alpha:\n",
    "        prev_log_marginal_likelihood = log_marginal_likelihood\n",
    "        theta_hist.append(theta)\n",
    "        N_hist.append(candidate_path)"
   ]
  },
  {
   "cell_type": "code",
   "execution_count": 82,
   "metadata": {},
   "outputs": [
    {
     "data": {
      "text/plain": [
       "9"
      ]
     },
     "execution_count": 82,
     "metadata": {},
     "output_type": "execute_result"
    }
   ],
   "source": [
    "theta_history = theta_hist\n",
    "len(theta_history)"
   ]
  },
  {
   "cell_type": "code",
   "execution_count": null,
   "metadata": {},
   "outputs": [],
   "source": [
    "theta_hist = np.array(theta_hist)\n",
    "f, (ax1, ax2, ax3) = plt.subplots(1, 3)\n",
    "st = f.suptitle(\"estimated parameters\", fontsize=\"xx-large\")\n",
    "\n",
    "f.set_figwidth(20)\n",
    "f.set_figheight(8)\n",
    "ax1.plot(np.arange(len(theta_hist)), np.cumsum(theta_hist[:, 0]) / (np.arange(len(theta_hist)) + 1) )\n",
    "ax1.axhline(y=0.15, color='r', linestyle='--')\n",
    "\n",
    "ax1.set_title('b0')\n",
    "ax2.plot(np.arange(len(theta_hist)), np.cumsum(theta_hist[:, 1]) / (np.arange(len(theta_hist)) + 1))\n",
    "ax2.axhline(y=0.47, color='r', linestyle='--')\n",
    "ax2.set_title('sigma eps')\n",
    "\n",
    "ax3.plot(np.arange(len(theta_hist)),np.cumsum(theta_hist[:, 2]) / (np.arange(len(theta_hist)) + 1))\n",
    "ax3.axhline(y=0.39, color='r', linestyle='--')\n",
    "ax3.set_title('sigma w')"
   ]
  },
  {
   "cell_type": "code",
   "execution_count": null,
   "metadata": {
    "collapsed": true
   },
   "outputs": [],
   "source": []
  }
 ],
 "metadata": {
  "kernelspec": {
   "display_name": "Python 3",
   "language": "python",
   "name": "python3"
  },
  "language_info": {
   "codemirror_mode": {
    "name": "ipython",
    "version": 3
   },
   "file_extension": ".py",
   "mimetype": "text/x-python",
   "name": "python",
   "nbconvert_exporter": "python",
   "pygments_lexer": "ipython3",
   "version": "3.5.3"
  }
 },
 "nbformat": 4,
 "nbformat_minor": 2
}
