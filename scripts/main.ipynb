{
 "cells": [
  {
   "cell_type": "markdown",
   "metadata": {},
   "source": [
    "# AdPMCMC on model $M_0$"
   ]
  },
  {
   "cell_type": "code",
   "execution_count": 142,
   "metadata": {},
   "outputs": [
    {
     "name": "stdout",
     "output_type": "stream",
     "text": [
      "Populating the interactive namespace from numpy and matplotlib\n"
     ]
    }
   ],
   "source": [
    "import warnings\n",
    "warnings.filterwarnings(\"ignore\")\n",
    "\n",
    "import numpy as np\n",
    "\n",
    "from scipy.stats import invgamma\n",
    "\n",
    "import matplotlib.pyplot as plt\n",
    "import seaborn\n",
    "%pylab inline"
   ]
  },
  {
   "cell_type": "markdown",
   "metadata": {},
   "source": [
    "Model $M_0$ : \n",
    "\\begin{equation}\n",
    "\\log N_{t+1} = \\log N_t + b_0 + \\epsilon_t\n",
    "\\end{equation}\n",
    "\n",
    "with $\\epsilon_t \\sim \\mathcal{N}(0, \\sigma_\\epsilon^2)$. \n",
    "\n",
    "We put a Gaussian prior on the maximum per-individual growth rate parameter : $b_0 \\sim \\mathcal{N}(0, 1)$.\n",
    "We use inverse Gamma priors for the variance noises :\n",
    "\n",
    "$\\sigma_\\epsilon^2 \\sim \\mathcal{IG}(\\alpha_\\epsilon, \\beta_\\epsilon)$\n",
    "\n",
    "$\\sigma_w^2 \\sim \\mathcal{IG}(\\alpha_w, \\beta_w)$\n",
    "\n",
    "with hyperpameters $\\alpha_\\epsilon=\\alpha_w=T/2$ and $\\beta_\\epsilon=\\beta_w=\\frac{2(\\alpha_\\epsilon-1)}{10}$.\n",
    "\n",
    "For synthetic data simulation, the authors set :"
   ]
  },
  {
   "cell_type": "code",
   "execution_count": 138,
   "metadata": {
    "collapsed": true
   },
   "outputs": [],
   "source": [
    "b_0 = 0.15\n",
    "theta = 0.1\n",
    "sigma_w = 0.39\n",
    "sigma_eps = 0.47\n",
    "n_0 = 1.17\n",
    "T = 50\n",
    "\n",
    "# prior hyperparameters\n",
    "alpha_eps = alpha_w =  T/2\n",
    "beta_eps = beta_w = 2*(alpha_eps -1)/10"
   ]
  },
  {
   "cell_type": "code",
   "execution_count": 139,
   "metadata": {},
   "outputs": [],
   "source": [
    "def trajectory_simulation(T):\n",
    "    log_N = np.zeros(T+1)\n",
    "    log_N[0] = 1.17\n",
    "    for t in range(T):\n",
    "        log_N[t+1] = log_N[t] + b_0 + np.random.normal(0, sigma_eps**2)\n",
    "    Y = np.exp(log_N) + np.random.normal(0, sigma_w**2, T+1)\n",
    "    return(log_N, Y)"
   ]
  },
  {
   "cell_type": "markdown",
   "metadata": {},
   "source": [
    "Problem : $g_t$ from the observation process is not defined in the paper.\n",
    "\n",
    "Since, in the paper, $p(y_t | n_t, \\sigma^2_w)$ is assumed to be the density of a Gaussian distribution with mean $n_t$ and variance $\\sigma^2_w$, I assume $g_t$ is the identity function."
   ]
  },
  {
   "cell_type": "code",
   "execution_count": 140,
   "metadata": {
    "scrolled": true
   },
   "outputs": [
    {
     "data": {
      "image/png": "[encoded data removed]",
      "text/plain": [
       "<matplotlib.figure.Figure at 0x11eee0c18>"
      ]
     },
     "metadata": {},
     "output_type": "display_data"
    }
   ],
   "source": [
    "log_N, Y = trajectory_simulation(T)\n",
    "\n",
    "f, (ax1, ax2) = plt.subplots(1, 2)\n",
    "st = f.suptitle(\"Simulated data\", fontsize=\"x-large\")\n",
    "\n",
    "ax1.plot(log_N)\n",
    "ax1.set_title('Latent process (log scale)')\n",
    "ax2.plot(Y)\n",
    "ax2.set_title('Observation process')\n",
    "\n",
    "plt.tight_layout()\n",
    "\n",
    "st.set_y(0.95)\n",
    "f.subplots_adjust(top=0.80)"
   ]
  },
  {
   "cell_type": "markdown",
   "metadata": {},
   "source": [
    "TODO : \n",
    "\n",
    "- implement the three stages of AdPMCMC as described page 11\n"
   ]
  },
  {
   "cell_type": "markdown",
   "metadata": {},
   "source": [
    "## Stage 1 : Annealed PMCMC\n",
    "\n"
   ]
  },
  {
   "cell_type": "markdown",
   "metadata": {},
   "source": [
    "Random initialization of the parameters $(\\theta, N_{1:T})$, followed by annealed AdPMCMC using a sequence of distribuitons :\n",
    "\n",
    "\\begin{equation}\n",
    "p_n(\\theta, N_{1:T} | y_{1:T}) = p(\\theta, N_{1:T})^{1-\\gamma_n}p(y_{1:T}|\\theta, N_{1:T})^{\\gamma_n}\n",
    "\\end{equation}\n",
    "\n",
    "(in the model $M_0$, $\\theta = (b_0, \\sigma_\\epsilon, \\sigma_w)$"
   ]
  },
  {
   "cell_type": "code",
   "execution_count": 143,
   "metadata": {
    "collapsed": true
   },
   "outputs": [],
   "source": [
    "n_steps = 5000\n",
    "\n",
    "# Random initialization\n",
    "sigma_eps = invgamma.rvs(a=alpha_eps, scale=beta_eps)\n",
    "sigma_w = invgamma.rvs(a=alpha_w, scale=beta_w)"
   ]
  },
  {
   "cell_type": "code",
   "execution_count": 144,
   "metadata": {},
   "outputs": [
    {
     "data": {
      "text/plain": [
       "0.17217411594938578"
      ]
     },
     "execution_count": 144,
     "metadata": {},
     "output_type": "execute_result"
    }
   ],
   "source": [
    "sigma_eps"
   ]
  },
  {
   "cell_type": "markdown",
   "metadata": {},
   "source": [
    "## Stage 2 : Non adaptive PMCMC"
   ]
  },
  {
   "cell_type": "markdown",
   "metadata": {},
   "source": [
    "## Stage 3 : Adaptive PMCMC"
   ]
  },
  {
   "cell_type": "code",
   "execution_count": null,
   "metadata": {
    "collapsed": true
   },
   "outputs": [],
   "source": []
  }
 ],
 "metadata": {
  "kernelspec": {
   "display_name": "Python 3",
   "language": "python",
   "name": "python3"
  },
  "language_info": {
   "codemirror_mode": {
    "name": "ipython",
    "version": 3
   },
   "file_extension": ".py",
   "mimetype": "text/x-python",
   "name": "python",
   "nbconvert_exporter": "python",
   "pygments_lexer": "ipython3",
   "version": "3.5.3"
  }
 },
 "nbformat": 4,
 "nbformat_minor": 2
}
