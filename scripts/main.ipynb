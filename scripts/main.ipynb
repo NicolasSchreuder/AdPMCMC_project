{
 "cells": [
  {
   "cell_type": "markdown",
   "metadata": {},
   "source": [
    "# AdPMCMC on model $M_0$ to $M_2$"
   ]
  },
  {
   "cell_type": "code",
   "execution_count": 1,
   "metadata": {},
   "outputs": [
    {
     "name": "stdout",
     "output_type": "stream",
     "text": [
      "Populating the interactive namespace from numpy and matplotlib\n"
     ]
    }
   ],
   "source": [
    "import warnings\n",
    "warnings.filterwarnings(\"ignore\")\n",
    "\n",
    "import numpy as np\n",
    "\n",
    "import pandas as pd\n",
    "\n",
    "import scipy\n",
    "from scipy.stats import invgamma\n",
    "from scipy.stats import norm\n",
    "\n",
    "import matplotlib.pyplot as plt\n",
    "import seaborn\n",
    "%pylab inline\n",
    "\n",
    "from tqdm import tqdm \n",
    "\n",
    "# Homemade functions\n",
    "\n",
    "from trajectorySimulation import trajectory_simulation\n",
    "from utils import process_date, gaussian_log_density, stratified_resampling, gaussian_kernel_density"
   ]
  },
  {
   "cell_type": "markdown",
   "metadata": {},
   "source": [
    "We begin by considering the model $M_0$ : \n",
    "\\begin{equation}\n",
    "\\log N_{t+1} = \\log N_t + b_0 + \\epsilon_t\n",
    "\\end{equation}\n",
    "\n",
    "with $\\epsilon_t \\sim \\mathcal{N}(0, \\sigma_\\epsilon^2)$. \n",
    "\n",
    "We put a Gaussian prior on the maximum per-individual growth rate parameter : $b_0 \\sim \\mathcal{N}(0, 1)$.\n",
    "We use inverse Gamma priors for the variance noises :\n",
    "\n",
    "$\\sigma_\\epsilon^2 \\sim \\mathcal{IG}(\\alpha_\\epsilon, \\beta_\\epsilon)$\n",
    "\n",
    "$\\sigma_w^2 \\sim \\mathcal{IG}(\\alpha_w, \\beta_w)$\n",
    "\n",
    "with hyperpameters $\\alpha_\\epsilon=\\alpha_w=\\frac{T}{2}$ and $\\beta_\\epsilon=\\beta_w=\\frac{2(\\alpha_\\epsilon-1)}{10}$."
   ]
  },
  {
   "cell_type": "markdown",
   "metadata": {},
   "source": [
    "## MCMC kernel for $\\theta$"
   ]
  },
  {
   "cell_type": "code",
   "execution_count": 2,
   "metadata": {
    "collapsed": true
   },
   "outputs": [],
   "source": [
    "from kernels import non_adaptive_theta_proposal, adaptive_theta_proposal"
   ]
  },
  {
   "cell_type": "markdown",
   "metadata": {},
   "source": [
    "## SMC sampler for $n_{1:T}$"
   ]
  },
  {
   "cell_type": "markdown",
   "metadata": {},
   "source": [
    "In the paper, there seems to be a simulation of $b_0$ per particles, see Algorithm 1, p.31, this seems odd."
   ]
  },
  {
   "cell_type": "markdown",
   "metadata": {},
   "source": [
    "See \"Log-PF: Particle Filtering in Logarithm Domain\" for log-normalization of weights"
   ]
  },
  {
   "cell_type": "code",
   "execution_count": 171,
   "metadata": {
    "collapsed": true
   },
   "outputs": [],
   "source": [
    "def SMC_M0(Y, T, L, N_0, B_0, SigmaEps, SigmaW):\n",
    "    \"\"\"\n",
    "    Particle filter for M0 model\n",
    "    y : observation trajectory\n",
    "    T : time horizon\n",
    "    L : number of particles\n",
    "    n_0 : initial value of latent variable\n",
    "    b_0, sigma_eps, sigma_w : M0 parameters\n",
    "    \"\"\"\n",
    "    \n",
    "    # Initialization of log particles and log-weights matrix\n",
    "    LogParticles = np.zeros((T, L))\n",
    "    LogW = np.zeros((T, L))\n",
    "    \n",
    "    # Initialization of likelihood matrix \n",
    "    # Contains the obs likelihood for each particle\n",
    "    w = np.zeros((T, L))\n",
    "    \n",
    "    # Initialization\n",
    "    LogParticles[0, :] = np.log(N_0)\n",
    "    \n",
    "    # Log-weight computation\n",
    "    for l in range(L):\n",
    "        w[0, l] = gaussian_log_density(Y[0], LogParticles[0, l], SigmaW)\n",
    "        LogW[0, l] = w[0, l]\n",
    "    \n",
    "    # Log-weight normalization\n",
    "    LogW[0, :] -= np.max(LogW[0, :]) # scaling   \n",
    "    LogSumOfWeights = np.log(sum(np.exp(LogW[0, :]))) \n",
    "    LogW[0, :] -= LogSumOfWeights\n",
    "        \n",
    "    for t in range(1, T):\n",
    "        for l in range(L):\n",
    "            # Propagation\n",
    "            LogParticles[t, l] = LogParticles[t-1, l] + B_0 + np.random.normal(0, SigmaEps)\n",
    "                        \n",
    "            # Log-weight computation\n",
    "            w[t, l] = gaussian_log_density(Y[t], LogParticles[t, l], SigmaW)\n",
    "            LogW[t, l] = LogW[t-1, l] + w[t, l]\n",
    "                \n",
    "        # Weight normalization (log scale)\n",
    "        LogW[t, :] -= np.max(LogW[t, :]) # scaling   \n",
    "        LogSumOfWeights = np.log(sum(np.exp(LogW[t, :]))) \n",
    "        LogW[t, :] -= LogSumOfWeights\n",
    "                            \n",
    "        # Adaptive resampling : sample if ESS < 80% of number of particles\n",
    "        ESS = 1/sum(np.exp(LogW[t, :])**2)\n",
    "                        \n",
    "        if ESS < 0.8*L:\n",
    "            # resample indexes according to the normalized importance weights\n",
    "            ResampledIndexes = stratified_resampling(np.exp(LogW[t, :]))\n",
    "            LogParticles[t, :] = LogParticles[t, ResampledIndexes]\n",
    "            LogW[t, :] = np.log(np.ones(L)/L) # the new particles have equal weight\n",
    "                \n",
    "    # Evaluate marginal likelihood\n",
    "    \n",
    "    LogMarginalLikelihood = np.sum(np.log(np.sum(np.exp(w), axis=1)/L))     \n",
    "        \n",
    "    return LogParticles, LogW, LogMarginalLikelihood"
   ]
  },
  {
   "cell_type": "code",
   "execution_count": 192,
   "metadata": {
    "scrolled": false
   },
   "outputs": [
    {
     "data": {
      "image/png": "[encoded data removed]",
      "text/plain": [
       "<matplotlib.figure.Figure at 0x124421080>"
      ]
     },
     "metadata": {},
     "output_type": "display_data"
    }
   ],
   "source": [
    "# General model parameters\n",
    "b_0 = 0.15\n",
    "sigma_w = 0.39 # observation noise\n",
    "sigma_eps = 0.47 # process noise\n",
    "n_0 = 1.27 # starting point of latent variable\n",
    "T = 30 # time horizon\n",
    "\n",
    "# Simulate and plot a trajectory\n",
    "log_N, Y = trajectory_simulation(model = 'M0', T=T, n_0=n_0, b_0=b_0, \n",
    "                                sigma_eps=sigma_eps, sigma_w=sigma_w)\n",
    "\n",
    "f, (ax1, ax2) = plt.subplots(1, 2)\n",
    "st = f.suptitle(\"Simulated data (Model M0)\", fontsize=\"x-large\")\n",
    "\n",
    "ax1.plot(log_N)\n",
    "ax1.set_title('Latent process (log scale)')\n",
    "ax2.plot(Y)\n",
    "ax2.set_title('Observation process')\n",
    "\n",
    "plt.tight_layout()\n",
    "\n",
    "st.set_y(0.95)\n",
    "f.subplots_adjust(top=0.80)"
   ]
  },
  {
   "cell_type": "code",
   "execution_count": 193,
   "metadata": {
    "scrolled": false
   },
   "outputs": [
    {
     "name": "stdout",
     "output_type": "stream",
     "text": [
      "-100.117705517\n"
     ]
    },
    {
     "data": {
      "image/png": "[encoded data removed]",
      "text/plain": [
       "<matplotlib.figure.Figure at 0x11f254550>"
      ]
     },
     "metadata": {},
     "output_type": "display_data"
    }
   ],
   "source": [
    "L = 50 # number of particles\n",
    "\n",
    "log_particles, log_W, log_marginal_likelihood = SMC_M0(Y, T, L, n_0, b_0, sigma_eps, sigma_w)\n",
    "\n",
    "log_particles_averaged = [np.average(log_particles[t, :], weights=np.exp(log_W[t, :]), axis=0) \n",
    "                          for t in range(T)]\n",
    "\n",
    "plt.plot(log_N[:-1])\n",
    "plt.plot(log_particles) \n",
    "plt.legend([\"Simulated trajectory\", \"Estimated trajectory\"])\n",
    "print(log_marginal_likelihood)"
   ]
  },
  {
   "cell_type": "markdown",
   "metadata": {},
   "source": [
    "## Stage 3 : Generic PMCMC"
   ]
  },
  {
   "cell_type": "code",
   "execution_count": 184,
   "metadata": {
    "collapsed": true,
    "scrolled": true
   },
   "outputs": [],
   "source": [
    "def AdPMCMC(NSteps, T, AdaptiveRate, Y, L, N_0):\n",
    "    \n",
    "    # draw uniforms for accept-reject procedure\n",
    "    Uniforms = np.random.uniform(0, 1, NSteps)\n",
    "    \n",
    "    # inverse gamma prior hyperparameters\n",
    "    AlphaEps = AlphaW =  T/2 \n",
    "    BetaEps = BetaW = 2*(AlphaEps - 1)/10\n",
    "    \n",
    "    # trajectory history\n",
    "    NHist = []\n",
    "\n",
    "    # Parameters initialization\n",
    "    B_0 = np.random.normal(0, 1)\n",
    "    SigmaEps = np.sqrt(invgamma.rvs(a=AlphaEps, scale=BetaEps))\n",
    "    SigmaW = np.sqrt(invgamma.rvs(a=AlphaW, scale=BetaW))\n",
    "        \n",
    "    Theta = np.array([B_0, SigmaEps, SigmaW])\n",
    "    ThetaHist = [Theta]\n",
    "\n",
    "    for j in tqdm(range(NSteps), desc=\"Running AdPMCMC\"):\n",
    "    \n",
    "        # draw candidate theta wrt non adaptive proposal\n",
    "        if np.random.rand() < 1 - AdaptiveRate or j < 500:\n",
    "            ThetaProp = non_adaptive_theta_proposal(Theta)\n",
    "        else:\n",
    "            ThetaProp = adaptive_theta_proposal(ThetaHist)\n",
    "\n",
    "        # unpack theta\n",
    "        B_0, SigmaEps, SigmaW = ThetaProp\n",
    "                \n",
    "        # To avoid negative std deviation errors \n",
    "        SigmaEps, SigmaW = np.abs(SigmaEps), np.abs(SigmaW)\n",
    "        ThetaProp = np.array([B_0, SigmaEps, SigmaW])\n",
    "        \n",
    "        # run SMC\n",
    "        LogParticles, LogW, LogMarginalLikelihood = SMC_M0(\n",
    "            Y, T, L, N_0, B_0, SigmaEps, SigmaW)\n",
    "        \n",
    "        if LogMarginalLikelihood == -inf:\n",
    "            continue        \n",
    "        \n",
    "        # sample a candidate path\n",
    "        idx = np.random.choice(a=L, size=1, p=np.exp(LogW[-1,:]))[0]\n",
    "        CandidatePath = LogParticles[:, idx]\n",
    "\n",
    "        # compute acceptance proba\n",
    "\n",
    "        if j == 0:\n",
    "            # always accept first draw (initialization)\n",
    "            alpha = 1\n",
    "        else:\n",
    "            # last accepted theta\n",
    "            PrevB_0, PrevSigmaEps, PrevSigmaW = Theta\n",
    "\n",
    "            # SMC marginal likelihood ratio\n",
    "            MarginalLikelihoodRatio = np.exp(LogMarginalLikelihood - \n",
    "                                               PrevLogMarginalLikelihood)\n",
    "                        \n",
    "            # b_0 prior ratio\n",
    "            MarginalB_0_ratio = np.exp(0.5*(PrevB_0**2 - B_0**2))\n",
    "\n",
    "            # sigma_eps prior ratio\n",
    "            MarginalEpsRatio = np.exp(invgamma.logpdf(x=SigmaEps**2, a=AlphaEps, scale=BetaEps) -\n",
    "                                  invgamma.logpdf(x=PrevSigmaEps**2, a=AlphaEps, scale=BetaEps))\n",
    "\n",
    "            # sigma_w prior ratio\n",
    "            # change to log pdf\n",
    "            MarginalWRatio = (invgamma.pdf(x=SigmaW**2, a=AlphaW, scale=BetaW) / \n",
    "                                invgamma.pdf(x=PrevSigmaW**2, a=AlphaW, scale=BetaW))\n",
    "\n",
    "            # theta proposal ratio (always equal to one because kernel is symmetric)\n",
    "            ThetaPropRatio = (gaussian_kernel_density(ThetaProp, Theta) / \n",
    "                                    gaussian_kernel_density(Theta, ThetaProp))\n",
    "\n",
    "            alpha = (MarginalLikelihoodRatio * MarginalB_0_ratio * \n",
    "                     MarginalEpsRatio * MarginalWRatio * ThetaPropRatio)\n",
    "                                    \n",
    "        # accept-reject \n",
    "        if Uniforms[j] < alpha:\n",
    "            Theta = ThetaProp\n",
    "            PrevLogMarginalLikelihood = LogMarginalLikelihood\n",
    "            ThetaHist.append(Theta)\n",
    "            NHist.append(CandidatePath)\n",
    "\n",
    "    print(\"Number of samples : {}\".format(len(ThetaHist)))\n",
    "    \n",
    "    return ThetaHist"
   ]
  },
  {
   "cell_type": "code",
   "execution_count": 185,
   "metadata": {},
   "outputs": [
    {
     "name": "stderr",
     "output_type": "stream",
     "text": [
      "Running AdPMCMC:   0%|          | 3/1000 [00:00<02:13,  7.49it/s]"
     ]
    },
    {
     "name": "stdout",
     "output_type": "stream",
     "text": [
      "0.0\n",
      "1633579.24825\n"
     ]
    },
    {
     "name": "stderr",
     "output_type": "stream",
     "text": [
      "Running AdPMCMC:   0%|          | 5/1000 [00:00<02:21,  7.01it/s]"
     ]
    },
    {
     "name": "stdout",
     "output_type": "stream",
     "text": [
      "15588062.2804\n",
      "2.7699803649e-137\n"
     ]
    },
    {
     "name": "stderr",
     "output_type": "stream",
     "text": [
      "Running AdPMCMC:   1%|          | 7/1000 [00:00<02:20,  7.06it/s]"
     ]
    },
    {
     "name": "stdout",
     "output_type": "stream",
     "text": [
      "8580.40427819\n",
      "1266.14498097\n"
     ]
    },
    {
     "name": "stderr",
     "output_type": "stream",
     "text": [
      "Running AdPMCMC:   1%|          | 9/1000 [00:01<02:24,  6.85it/s]"
     ]
    },
    {
     "name": "stdout",
     "output_type": "stream",
     "text": [
      "6410627213.6\n",
      "34998.5000245\n"
     ]
    },
    {
     "name": "stderr",
     "output_type": "stream",
     "text": [
      "Running AdPMCMC:   1%|          | 11/1000 [00:01<02:23,  6.89it/s]"
     ]
    },
    {
     "name": "stdout",
     "output_type": "stream",
     "text": [
      "0.0182810986479\n",
      "0.874903885632\n"
     ]
    },
    {
     "name": "stderr",
     "output_type": "stream",
     "text": [
      "Running AdPMCMC:   1%|▏         | 13/1000 [00:01<02:27,  6.67it/s]"
     ]
    },
    {
     "name": "stdout",
     "output_type": "stream",
     "text": [
      "2.12838549819\n",
      "0.0186156064558\n"
     ]
    },
    {
     "name": "stderr",
     "output_type": "stream",
     "text": [
      "Running AdPMCMC:   2%|▏         | 15/1000 [00:02<02:29,  6.58it/s]"
     ]
    },
    {
     "name": "stdout",
     "output_type": "stream",
     "text": [
      "0.0214536697132\n",
      "0.0532033621758\n"
     ]
    },
    {
     "name": "stderr",
     "output_type": "stream",
     "text": [
      "Running AdPMCMC:   2%|▏         | 17/1000 [00:02<02:28,  6.60it/s]"
     ]
    },
    {
     "name": "stdout",
     "output_type": "stream",
     "text": [
      "6.66674920059\n",
      "0.375874909932\n"
     ]
    },
    {
     "name": "stderr",
     "output_type": "stream",
     "text": [
      "\r",
      "Running AdPMCMC:   2%|▏         | 18/1000 [00:02<02:30,  6.53it/s]"
     ]
    },
    {
     "name": "stdout",
     "output_type": "stream",
     "text": [
      "0.00486595818082\n"
     ]
    },
    {
     "name": "stderr",
     "output_type": "stream",
     "text": [
      "\n"
     ]
    },
    {
     "ename": "KeyboardInterrupt",
     "evalue": "",
     "output_type": "error",
     "traceback": [
      "\u001b[0;31m---------------------------------------------------------------------------\u001b[0m",
      "\u001b[0;31mKeyboardInterrupt\u001b[0m                         Traceback (most recent call last)",
      "\u001b[0;32m<ipython-input-185-ecdce5cdb114>\u001b[0m in \u001b[0;36m<module>\u001b[0;34m()\u001b[0m\n\u001b[1;32m      5\u001b[0m \u001b[0madaptive_rate\u001b[0m \u001b[0;34m=\u001b[0m \u001b[0;36m0.5\u001b[0m  \u001b[0;31m# adaptive rate (set to 0 for non-adaptive proposal)\u001b[0m\u001b[0;34m\u001b[0m\u001b[0m\n\u001b[1;32m      6\u001b[0m \u001b[0;34m\u001b[0m\u001b[0m\n\u001b[0;32m----> 7\u001b[0;31m \u001b[0mtheta_hist\u001b[0m \u001b[0;34m=\u001b[0m \u001b[0mAdPMCMC\u001b[0m\u001b[0;34m(\u001b[0m\u001b[0mn_steps\u001b[0m\u001b[0;34m,\u001b[0m \u001b[0mT\u001b[0m\u001b[0;34m,\u001b[0m \u001b[0madaptive_rate\u001b[0m\u001b[0;34m,\u001b[0m \u001b[0mY\u001b[0m\u001b[0;34m,\u001b[0m \u001b[0mL\u001b[0m\u001b[0;34m,\u001b[0m \u001b[0mn_0\u001b[0m\u001b[0;34m)\u001b[0m\u001b[0;34m\u001b[0m\u001b[0m\n\u001b[0m",
      "\u001b[0;32m<ipython-input-184-bc0e6d06a780>\u001b[0m in \u001b[0;36mAdPMCMC\u001b[0;34m(NSteps, T, AdaptiveRate, Y, L, N_0)\u001b[0m\n\u001b[1;32m     36\u001b[0m         \u001b[0;31m# run SMC\u001b[0m\u001b[0;34m\u001b[0m\u001b[0;34m\u001b[0m\u001b[0m\n\u001b[1;32m     37\u001b[0m         LogParticles, LogW, LogMarginalLikelihood = SMC_M0(\n\u001b[0;32m---> 38\u001b[0;31m             Y, T, L, N_0, B_0, SigmaEps, SigmaW)\n\u001b[0m\u001b[1;32m     39\u001b[0m \u001b[0;34m\u001b[0m\u001b[0m\n\u001b[1;32m     40\u001b[0m         \u001b[0;32mif\u001b[0m \u001b[0mLogMarginalLikelihood\u001b[0m \u001b[0;34m==\u001b[0m \u001b[0;34m-\u001b[0m\u001b[0minf\u001b[0m\u001b[0;34m:\u001b[0m\u001b[0;34m\u001b[0m\u001b[0m\n",
      "\u001b[0;32m<ipython-input-171-e81aa519fc3a>\u001b[0m in \u001b[0;36mSMC_M0\u001b[0;34m(Y, T, L, N_0, B_0, SigmaEps, SigmaW)\u001b[0m\n\u001b[1;32m     33\u001b[0m         \u001b[0;32mfor\u001b[0m \u001b[0ml\u001b[0m \u001b[0;32min\u001b[0m \u001b[0mrange\u001b[0m\u001b[0;34m(\u001b[0m\u001b[0mL\u001b[0m\u001b[0;34m)\u001b[0m\u001b[0;34m:\u001b[0m\u001b[0;34m\u001b[0m\u001b[0m\n\u001b[1;32m     34\u001b[0m             \u001b[0;31m# Propagation\u001b[0m\u001b[0;34m\u001b[0m\u001b[0;34m\u001b[0m\u001b[0m\n\u001b[0;32m---> 35\u001b[0;31m             \u001b[0mLogParticles\u001b[0m\u001b[0;34m[\u001b[0m\u001b[0mt\u001b[0m\u001b[0;34m,\u001b[0m \u001b[0ml\u001b[0m\u001b[0;34m]\u001b[0m \u001b[0;34m=\u001b[0m \u001b[0mLogParticles\u001b[0m\u001b[0;34m[\u001b[0m\u001b[0mt\u001b[0m\u001b[0;34m-\u001b[0m\u001b[0;36m1\u001b[0m\u001b[0;34m,\u001b[0m \u001b[0ml\u001b[0m\u001b[0;34m]\u001b[0m \u001b[0;34m+\u001b[0m \u001b[0mB_0\u001b[0m \u001b[0;34m+\u001b[0m \u001b[0mnp\u001b[0m\u001b[0;34m.\u001b[0m\u001b[0mrandom\u001b[0m\u001b[0;34m.\u001b[0m\u001b[0mnormal\u001b[0m\u001b[0;34m(\u001b[0m\u001b[0;36m0\u001b[0m\u001b[0;34m,\u001b[0m \u001b[0mSigmaEps\u001b[0m\u001b[0;34m)\u001b[0m\u001b[0;34m\u001b[0m\u001b[0m\n\u001b[0m\u001b[1;32m     36\u001b[0m \u001b[0;34m\u001b[0m\u001b[0m\n\u001b[1;32m     37\u001b[0m             \u001b[0;31m# Log-weight computation\u001b[0m\u001b[0;34m\u001b[0m\u001b[0;34m\u001b[0m\u001b[0m\n",
      "\u001b[0;31mKeyboardInterrupt\u001b[0m: "
     ]
    }
   ],
   "source": [
    "n_steps = 1000 # number of iterations \n",
    "\n",
    "L = 300 # number of particles\n",
    "\n",
    "adaptive_rate = 0.5  # adaptive rate (set to 0 for non-adaptive proposal)\n",
    "\n",
    "theta_hist = AdPMCMC(n_steps, T, adaptive_rate, Y, L, n_0)"
   ]
  },
  {
   "cell_type": "code",
   "execution_count": null,
   "metadata": {
    "collapsed": true
   },
   "outputs": [],
   "source": [
    "# burn-in time\n",
    "theta_history = np.array(theta_hist[100:])\n",
    "\n",
    "plt.plot(theta_history[:, 0])"
   ]
  },
  {
   "cell_type": "code",
   "execution_count": 9,
   "metadata": {},
   "outputs": [
    {
     "ename": "NameError",
     "evalue": "name 'theta_history' is not defined",
     "output_type": "error",
     "traceback": [
      "\u001b[0;31m---------------------------------------------------------------------------\u001b[0m",
      "\u001b[0;31mNameError\u001b[0m                                 Traceback (most recent call last)",
      "\u001b[0;32m<ipython-input-9-182e77911380>\u001b[0m in \u001b[0;36m<module>\u001b[0;34m()\u001b[0m\n\u001b[0;32m----> 1\u001b[0;31m \u001b[0mplt\u001b[0m\u001b[0;34m.\u001b[0m\u001b[0mhist\u001b[0m\u001b[0;34m(\u001b[0m\u001b[0mtheta_history\u001b[0m\u001b[0;34m[\u001b[0m\u001b[0;34m:\u001b[0m\u001b[0;34m,\u001b[0m \u001b[0;36m0\u001b[0m\u001b[0;34m]\u001b[0m\u001b[0;34m,\u001b[0m \u001b[0mbins\u001b[0m\u001b[0;34m=\u001b[0m\u001b[0;36m50\u001b[0m\u001b[0;34m)\u001b[0m\u001b[0;34m\u001b[0m\u001b[0m\n\u001b[0m\u001b[1;32m      2\u001b[0m \u001b[0mplt\u001b[0m\u001b[0;34m.\u001b[0m\u001b[0mtitle\u001b[0m\u001b[0;34m(\u001b[0m\u001b[0;34m'Posterior density for b0'\u001b[0m\u001b[0;34m)\u001b[0m\u001b[0;34m\u001b[0m\u001b[0m\n",
      "\u001b[0;31mNameError\u001b[0m: name 'theta_history' is not defined"
     ]
    }
   ],
   "source": [
    "plt.hist(theta_history[:, 0], bins=50)\n",
    "plt.title('Posterior density for b0')"
   ]
  },
  {
   "cell_type": "markdown",
   "metadata": {
    "collapsed": true
   },
   "source": [
    "# Real data"
   ]
  },
  {
   "cell_type": "markdown",
   "metadata": {},
   "source": [
    "We load the nutria database and plot the trajcetory of the myocastor coypus population :"
   ]
  },
  {
   "cell_type": "code",
   "execution_count": 7,
   "metadata": {},
   "outputs": [
    {
     "data": {
      "text/html": [
       "<div>\n",
       "<style>\n",
       "    .dataframe thead tr:only-child th {\n",
       "        text-align: right;\n",
       "    }\n",
       "\n",
       "    .dataframe thead th {\n",
       "        text-align: left;\n",
       "    }\n",
       "\n",
       "    .dataframe tbody tr th {\n",
       "        vertical-align: top;\n",
       "    }\n",
       "</style>\n",
       "<table border=\"1\" class=\"dataframe\">\n",
       "  <thead>\n",
       "    <tr style=\"text-align: right;\">\n",
       "      <th></th>\n",
       "      <th>TaxonName</th>\n",
       "      <th>MainID</th>\n",
       "      <th>TimeOfSample</th>\n",
       "      <th>Population</th>\n",
       "      <th>Abundance</th>\n",
       "      <th>YearMonth</th>\n",
       "    </tr>\n",
       "  </thead>\n",
       "  <tbody>\n",
       "    <tr>\n",
       "      <th>0</th>\n",
       "      <td>Myocastor coypus</td>\n",
       "      <td>9833</td>\n",
       "      <td>1970.01</td>\n",
       "      <td>0.55</td>\n",
       "      <td>550</td>\n",
       "      <td>719163.0</td>\n",
       "    </tr>\n",
       "    <tr>\n",
       "      <th>1</th>\n",
       "      <td>Myocastor coypus</td>\n",
       "      <td>9833</td>\n",
       "      <td>1970.02</td>\n",
       "      <td>0.55</td>\n",
       "      <td>550</td>\n",
       "      <td>719194.0</td>\n",
       "    </tr>\n",
       "    <tr>\n",
       "      <th>2</th>\n",
       "      <td>Myocastor coypus</td>\n",
       "      <td>9833</td>\n",
       "      <td>1970.03</td>\n",
       "      <td>0.60</td>\n",
       "      <td>600</td>\n",
       "      <td>719222.0</td>\n",
       "    </tr>\n",
       "    <tr>\n",
       "      <th>3</th>\n",
       "      <td>Myocastor coypus</td>\n",
       "      <td>9833</td>\n",
       "      <td>1970.04</td>\n",
       "      <td>0.55</td>\n",
       "      <td>550</td>\n",
       "      <td>719253.0</td>\n",
       "    </tr>\n",
       "    <tr>\n",
       "      <th>4</th>\n",
       "      <td>Myocastor coypus</td>\n",
       "      <td>9833</td>\n",
       "      <td>1970.05</td>\n",
       "      <td>0.50</td>\n",
       "      <td>500</td>\n",
       "      <td>719283.0</td>\n",
       "    </tr>\n",
       "  </tbody>\n",
       "</table>\n",
       "</div>"
      ],
      "text/plain": [
       "          TaxonName  MainID  TimeOfSample  Population  Abundance  YearMonth\n",
       "0  Myocastor coypus    9833       1970.01        0.55        550   719163.0\n",
       "1  Myocastor coypus    9833       1970.02        0.55        550   719194.0\n",
       "2  Myocastor coypus    9833       1970.03        0.60        600   719222.0\n",
       "3  Myocastor coypus    9833       1970.04        0.55        550   719253.0\n",
       "4  Myocastor coypus    9833       1970.05        0.50        500   719283.0"
      ]
     },
     "execution_count": 7,
     "metadata": {},
     "output_type": "execute_result"
    }
   ],
   "source": [
    "df = pd.read_csv('nutria_data.csv')\n",
    "df['YearMonth'] = df['TimeOfSample'].apply(process_date)\n",
    "df.head()"
   ]
  },
  {
   "cell_type": "code",
   "execution_count": 8,
   "metadata": {},
   "outputs": [
    {
     "data": {
      "text/plain": [
       "<matplotlib.text.Text at 0x10e3df208>"
      ]
     },
     "execution_count": 8,
     "metadata": {},
     "output_type": "execute_result"
    },
    {
     "data": {
      "image/png": "[encoded data removed]",
      "text/plain": [
       "<matplotlib.figure.Figure at 0x10e9041d0>"
      ]
     },
     "metadata": {},
     "output_type": "display_data"
    }
   ],
   "source": [
    "plt.plot_date(df[\"YearMonth\"], df[\"Abundance\"], '-')\n",
    "plt.title('Abundance of Myocastor coypus in function of time')\n",
    "plt.xlabel('Time')\n",
    "plt.ylabel('Abundance')"
   ]
  },
  {
   "cell_type": "code",
   "execution_count": 10,
   "metadata": {},
   "outputs": [
    {
     "name": "stderr",
     "output_type": "stream",
     "text": [
      "Running AdPMCMC:  30%|███       | 602/2000 [02:24<05:36,  4.15it/s]"
     ]
    },
    {
     "ename": "KeyboardInterrupt",
     "evalue": "",
     "output_type": "error",
     "traceback": [
      "\u001b[0;31m---------------------------------------------------------------------------\u001b[0m",
      "\u001b[0;31mKeyboardInterrupt\u001b[0m                         Traceback (most recent call last)",
      "\u001b[0;32m<ipython-input-10-1e5e69843528>\u001b[0m in \u001b[0;36m<module>\u001b[0;34m()\u001b[0m\n\u001b[1;32m      8\u001b[0m \u001b[0madaptive_rate\u001b[0m \u001b[0;34m=\u001b[0m \u001b[0;36m0.5\u001b[0m  \u001b[0;31m# set to 0 -> non-adaptive proposal\u001b[0m\u001b[0;34m\u001b[0m\u001b[0m\n\u001b[1;32m      9\u001b[0m \u001b[0;34m\u001b[0m\u001b[0m\n\u001b[0;32m---> 10\u001b[0;31m \u001b[0mtheta_hist_nutria\u001b[0m \u001b[0;34m=\u001b[0m \u001b[0mAdPMCMC\u001b[0m\u001b[0;34m(\u001b[0m\u001b[0mn_steps\u001b[0m\u001b[0;34m,\u001b[0m \u001b[0mT\u001b[0m\u001b[0;34m,\u001b[0m \u001b[0madaptive_rate\u001b[0m\u001b[0;34m,\u001b[0m \u001b[0mY_nutria\u001b[0m\u001b[0;34m,\u001b[0m \u001b[0mL\u001b[0m\u001b[0;34m,\u001b[0m \u001b[0mn_0_nutria\u001b[0m\u001b[0;34m)\u001b[0m\u001b[0;34m\u001b[0m\u001b[0m\n\u001b[0m",
      "\u001b[0;32m<ipython-input-6-a5b07cdbbcf3>\u001b[0m in \u001b[0;36mAdPMCMC\u001b[0;34m(NSteps, T, AdaptiveRate, Y, L, N_0)\u001b[0m\n\u001b[1;32m     36\u001b[0m         \u001b[0;31m# run SMC\u001b[0m\u001b[0;34m\u001b[0m\u001b[0;34m\u001b[0m\u001b[0m\n\u001b[1;32m     37\u001b[0m         LogParticles, LogW, LogMarginalLikelihood = SMC_M0(\n\u001b[0;32m---> 38\u001b[0;31m             Y, T, L, N_0, B_0, SigmaEps, SigmaW)\n\u001b[0m\u001b[1;32m     39\u001b[0m \u001b[0;34m\u001b[0m\u001b[0m\n\u001b[1;32m     40\u001b[0m         \u001b[0;31m# sample a candidate path\u001b[0m\u001b[0;34m\u001b[0m\u001b[0;34m\u001b[0m\u001b[0m\n",
      "\u001b[0;32m<ipython-input-3-377693658337>\u001b[0m in \u001b[0;36mSMC_M0\u001b[0;34m(Y, T, L, N_0, B_0, SigmaEps, SigmaW)\u001b[0m\n\u001b[1;32m     34\u001b[0m         \u001b[0;32mfor\u001b[0m \u001b[0ml\u001b[0m \u001b[0;32min\u001b[0m \u001b[0mrange\u001b[0m\u001b[0;34m(\u001b[0m\u001b[0mL\u001b[0m\u001b[0;34m)\u001b[0m\u001b[0;34m:\u001b[0m\u001b[0;34m\u001b[0m\u001b[0m\n\u001b[1;32m     35\u001b[0m             \u001b[0;31m# Propagation\u001b[0m\u001b[0;34m\u001b[0m\u001b[0;34m\u001b[0m\u001b[0m\n\u001b[0;32m---> 36\u001b[0;31m             \u001b[0mLogParticles\u001b[0m\u001b[0;34m[\u001b[0m\u001b[0mt\u001b[0m\u001b[0;34m,\u001b[0m \u001b[0ml\u001b[0m\u001b[0;34m]\u001b[0m \u001b[0;34m=\u001b[0m \u001b[0mLogParticles\u001b[0m\u001b[0;34m[\u001b[0m\u001b[0mt\u001b[0m\u001b[0;34m-\u001b[0m\u001b[0;36m1\u001b[0m\u001b[0;34m,\u001b[0m \u001b[0ml\u001b[0m\u001b[0;34m]\u001b[0m \u001b[0;34m+\u001b[0m \u001b[0mB_0\u001b[0m \u001b[0;34m+\u001b[0m \u001b[0mnp\u001b[0m\u001b[0;34m.\u001b[0m\u001b[0mrandom\u001b[0m\u001b[0;34m.\u001b[0m\u001b[0mnormal\u001b[0m\u001b[0;34m(\u001b[0m\u001b[0;36m0\u001b[0m\u001b[0;34m,\u001b[0m \u001b[0mSigmaEps\u001b[0m\u001b[0;34m)\u001b[0m\u001b[0;34m\u001b[0m\u001b[0m\n\u001b[0m\u001b[1;32m     37\u001b[0m \u001b[0;34m\u001b[0m\u001b[0m\n\u001b[1;32m     38\u001b[0m             \u001b[0;31m# Log-weight computation\u001b[0m\u001b[0;34m\u001b[0m\u001b[0;34m\u001b[0m\u001b[0m\n",
      "\u001b[0;31mKeyboardInterrupt\u001b[0m: "
     ]
    }
   ],
   "source": [
    "Y_nutria = df[\"Abundance\"].tolist()\n",
    "n_0_nutria = Y_nutria[0] \n",
    "\n",
    "n_steps = 2000\n",
    "L = 200\n",
    "\n",
    "# adaptive rate \n",
    "adaptive_rate = 0.5  # set to 0 -> non-adaptive proposal\n",
    "\n",
    "theta_hist_nutria = AdPMCMC(n_steps, T, adaptive_rate, Y_nutria, L, n_0_nutria)"
   ]
  },
  {
   "cell_type": "code",
   "execution_count": null,
   "metadata": {},
   "outputs": [],
   "source": [
    "# burn-in time\n",
    "theta_history = np.array(theta_hist_nutria[0:])\n",
    "\n",
    "plt.plot(theta_history[:, 0])"
   ]
  }
 ],
 "metadata": {
  "kernelspec": {
   "display_name": "Python 3",
   "language": "python",
   "name": "python3"
  },
  "language_info": {
   "codemirror_mode": {
    "name": "ipython",
    "version": 3
   },
   "file_extension": ".py",
   "mimetype": "text/x-python",
   "name": "python",
   "nbconvert_exporter": "python",
   "pygments_lexer": "ipython3",
   "version": "3.5.3"
  }
 },
 "nbformat": 4,
 "nbformat_minor": 2
}
