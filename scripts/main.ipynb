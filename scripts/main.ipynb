{
 "cells": [
  {
   "cell_type": "markdown",
   "metadata": {},
   "source": [
    "# AdPMCMC on model $M_0$"
   ]
  },
  {
   "cell_type": "code",
   "execution_count": 1,
   "metadata": {},
   "outputs": [
    {
     "name": "stdout",
     "output_type": "stream",
     "text": [
      "Populating the interactive namespace from numpy and matplotlib\n"
     ]
    }
   ],
   "source": [
    "import warnings\n",
    "warnings.filterwarnings(\"ignore\")\n",
    "\n",
    "import numpy as np\n",
    "\n",
    "import scipy\n",
    "from scipy.stats import invgamma\n",
    "from scipy.stats import norm\n",
    "\n",
    "import matplotlib.pyplot as plt\n",
    "import seaborn\n",
    "%pylab inline"
   ]
  },
  {
   "cell_type": "markdown",
   "metadata": {},
   "source": [
    "We begin by considering the model $M_0$ : \n",
    "\\begin{equation}\n",
    "\\log N_{t+1} = \\log N_t + b_0 + \\epsilon_t\n",
    "\\end{equation}\n",
    "\n",
    "with $\\epsilon_t \\sim \\mathcal{N}(0, \\sigma_\\epsilon^2)$. \n",
    "\n",
    "We put a Gaussian prior on the maximum per-individual growth rate parameter : $b_0 \\sim \\mathcal{N}(0, 1)$.\n",
    "We use inverse Gamma priors for the variance noises :\n",
    "\n",
    "$\\sigma_\\epsilon^2 \\sim \\mathcal{IG}(\\alpha_\\epsilon, \\beta_\\epsilon)$\n",
    "\n",
    "$\\sigma_w^2 \\sim \\mathcal{IG}(\\alpha_w, \\beta_w)$\n",
    "\n",
    "with hyperpameters $\\alpha_\\epsilon=\\alpha_w=T/2$ and $\\beta_\\epsilon=\\beta_w=\\frac{2(\\alpha_\\epsilon-1)}{10}$.\n",
    "\n",
    "For synthetic data simulation, the authors set :"
   ]
  },
  {
   "cell_type": "code",
   "execution_count": 13,
   "metadata": {
    "collapsed": true
   },
   "outputs": [],
   "source": [
    "# model parameters\n",
    "b_0 = 0.15 \n",
    "theta = 0.1\n",
    "sigma_w = 0.39 # observation noise\n",
    "sigma_eps = 0.47 # process noise\n",
    "n_0 = 1.27 # starting point of latent variable\n",
    "T = 50 # time horizon\n",
    "\n",
    "# inverse gamma prior hyperparameters\n",
    "alpha_eps = alpha_w =  T/2 \n",
    "beta_eps = beta_w = 2*(alpha_eps -1)/10"
   ]
  },
  {
   "cell_type": "code",
   "execution_count": 14,
   "metadata": {},
   "outputs": [],
   "source": [
    "def trajectorySimulationM0(T):\n",
    "    \"\"\"\n",
    "    Simulates latent variable and observation trajectories of horizon T for the M_0 model\n",
    "    \"\"\"\n",
    "    \n",
    "    # Initialization of latent variable trajectory\n",
    "    log_N = np.zeros(T+1)\n",
    "    \n",
    "    # Arbitrary initialization (found in the paper p. 12)\n",
    "    log_N[0] = np.log(n_0)\n",
    "    \n",
    "    # Latent variable simulation\n",
    "    for t in range(T):\n",
    "        log_N[t+1] = log_N[t] + b_0 + np.random.normal(0, sigma_eps**2)\n",
    "    \n",
    "    # Observation variable\n",
    "    Y = np.exp(log_N) + np.random.normal(0, sigma_w**2, T+1)\n",
    "    \n",
    "    return log_N, Y"
   ]
  },
  {
   "cell_type": "markdown",
   "metadata": {},
   "source": [
    "Problem : $g_t$ from the observation process is not defined in the paper.\n",
    "\n",
    "Since, in the paper, $p(y_t | n_t, \\sigma^2_w)$ is assumed to be the density of a Gaussian distribution with mean $n_t$ and variance $\\sigma^2_w$, I assume $g_t$ is the identity function."
   ]
  },
  {
   "cell_type": "code",
   "execution_count": 15,
   "metadata": {
    "scrolled": true
   },
   "outputs": [
    {
     "data": {
      "image/png": "[encoded data removed]",
      "text/plain": [
       "<matplotlib.figure.Figure at 0x11c9cb320>"
      ]
     },
     "metadata": {},
     "output_type": "display_data"
    }
   ],
   "source": [
    "# Simulate and plot a trajectory\n",
    "log_N, Y = trajectorySimulationM0(T)\n",
    "\n",
    "f, (ax1, ax2) = plt.subplots(1, 2)\n",
    "st = f.suptitle(\"Simulated data\", fontsize=\"x-large\")\n",
    "\n",
    "ax1.plot(log_N)\n",
    "ax1.set_title('Latent process (log scale)')\n",
    "ax2.plot(Y)\n",
    "ax2.set_title('Observation process')\n",
    "\n",
    "plt.tight_layout()\n",
    "\n",
    "st.set_y(0.95)\n",
    "f.subplots_adjust(top=0.80)"
   ]
  },
  {
   "cell_type": "markdown",
   "metadata": {},
   "source": [
    "## MCMC proposal for $\\theta$"
   ]
  },
  {
   "cell_type": "markdown",
   "metadata": {},
   "source": [
    "TODO : \n",
    "- define adaptive theta proposal"
   ]
  },
  {
   "cell_type": "code",
   "execution_count": 5,
   "metadata": {
    "collapsed": true
   },
   "outputs": [],
   "source": [
    "# non-adaptive theta proposal\n",
    "def nonAdaptiveThetaProposal(theta):\n",
    "    \"\"\" \n",
    "    Non-adaptive Gaussian kernel for parameter proposal\n",
    "    \"\"\"\n",
    "    d = theta.shape[0]\n",
    "    return np.random.multivariate_normal(theta, (0.1)**2/d * np.eye(d))"
   ]
  },
  {
   "cell_type": "code",
   "execution_count": 6,
   "metadata": {
    "collapsed": true
   },
   "outputs": [],
   "source": [
    "# adaptive theta proposal\n",
    "def adaptiveThetaProposal(theta):\n",
    "    \"\"\" \n",
    "    Adaptive Gaussian kernel for parameter proposal\n",
    "    See algorithm 2 of paper\n",
    "    \"\"\"\n",
    "    return 0"
   ]
  },
  {
   "cell_type": "markdown",
   "metadata": {},
   "source": [
    "## SMC sampler for $n_{1:T}$"
   ]
  },
  {
   "cell_type": "code",
   "execution_count": 7,
   "metadata": {},
   "outputs": [
    {
     "data": {
      "text/plain": [
       "(0.19775852559517773, 0.23624593146788364)"
      ]
     },
     "execution_count": 7,
     "metadata": {},
     "output_type": "execute_result"
    }
   ],
   "source": [
    "# Random initialization\n",
    "sigma_eps = invgamma.rvs(a=alpha_eps, scale=beta_eps)\n",
    "sigma_w = invgamma.rvs(a=alpha_w, scale=beta_w)\n",
    "sigma_eps, sigma_w"
   ]
  },
  {
   "cell_type": "code",
   "execution_count": 8,
   "metadata": {
    "collapsed": true
   },
   "outputs": [],
   "source": [
    "def g(y, log_n, sigma_w):\n",
    "    \"\"\"\n",
    "    Observation process\n",
    "    \"\"\"\n",
    "    return scipy.stats.norm.pdf(y, np.exp(log_n), sigma_w)\n",
    "\n",
    "def stratifiedResampling(weights):\n",
    "    \"\"\"\n",
    "    Stratified resampling\n",
    "    Returns drawn indexes as a list\n",
    "    weights needs to be a numpy array\n",
    "    \"\"\"\n",
    "    n_samples = weights.shape[0]\n",
    "        \n",
    "    # Generate n_samples sorted uniforms with stratified sampling\n",
    "    sorted_uniforms = np.zeros(n_samples)\n",
    "    for n in range(n_samples):\n",
    "        sorted_uniforms[n] = np.random.uniform(n/n_samples, (n+1)/n_samples)\n",
    "        \n",
    "    sampled_indexes = []\n",
    "    j, partial_sum_weights = 0, weights[0]\n",
    "    for n in range(n_samples):\n",
    "        while sorted_uniforms[n] > partial_sum_weights:\n",
    "            j += 1\n",
    "            partial_sum_weights += weights[j]\n",
    "        sampled_indexes += [j]\n",
    "        \n",
    "    return sampled_indexes\n",
    "\n",
    "def q(theta, theta_prev):\n",
    "    return scipy.stats.multivariate_normal.pdf(theta, theta_prev, (0.1)**2/d * np.eye(d))"
   ]
  },
  {
   "cell_type": "markdown",
   "metadata": {},
   "source": [
    "In the paper, there seems to be a simulation of $b_0$ per particles, see Algorithm 1, p.31 "
   ]
  },
  {
   "cell_type": "markdown",
   "metadata": {},
   "source": [
    "See \"Log-PF: Particle Filtering in Logarithm Domain\" for log-normalization of weights"
   ]
  },
  {
   "cell_type": "code",
   "execution_count": 9,
   "metadata": {},
   "outputs": [],
   "source": [
    "# n | theta proposal\n",
    "def SMC(y, T, L, n_0, b_0, sigma_eps, sigma_w):\n",
    "    \"\"\"\n",
    "    Particle filter \n",
    "    \"\"\"\n",
    "    \n",
    "    # L is the number of particles\n",
    "    log_particles = np.zeros((T, L))\n",
    "    \n",
    "    # Weights matrix\n",
    "    W = np.zeros((T, L))\n",
    "    \n",
    "    # Log-weights matrix\n",
    "    log_W = np.zeros((T, L))\n",
    "    \n",
    "    # Initial propagation\n",
    "    log_particles[0, :] = np.log(n_0) + b_0 + np.random.normal(0, sigma_eps, L)\n",
    "        \n",
    "    # Not sure about W initialization\n",
    "    for l in range(L):\n",
    "        log_W[0, l] = np.log(g(y[0], log_particles[0, l], sigma_w))\n",
    "    \n",
    "    # Weight normalization (log scale)\n",
    "    log_W[0, :] -= np.max(log_W[0, :]) # scaling   \n",
    "    log_sum_of_weights = np.log(sum(np.exp(log_W[0, :]))) \n",
    "    log_W[0, :] -= log_sum_of_weights\n",
    "    \n",
    "    W[0, :] = np.exp(W[0, :])\n",
    "    \n",
    "    for t in range(1, T):\n",
    "        for l in range(L):\n",
    "            # Propagation\n",
    "            log_particles[t, l] = log_particles[t-1, l] + b_0 + np.random.normal(0, sigma_eps)\n",
    "            \n",
    "            # Weight computation\n",
    "            log_W[t, l] = log_W[t-1, l] + np.log(g(y[t], log_particles[t, l], sigma_w))\n",
    "        \n",
    "        # Weight normalization (log scale)\n",
    "        log_W[t, :] -= np.max(log_W[t, :]) # scaling   \n",
    "        log_sum_of_weights = np.log(sum(np.exp(log_W[t, :]))) \n",
    "        log_W[t, :] -= log_sum_of_weights\n",
    "                \n",
    "        # Adaptive resampling : sample if ESS < 80% of number of particles\n",
    "        ESS = 1/sum(np.exp(W[t, :])**2)\n",
    "                \n",
    "        if ESS < 0.8*L:\n",
    "            # resample indexes according to the normalized importance weights\n",
    "            resampled_indexes = stratifiedResampling(np.exp(log_W[t, :])) \n",
    "            log_particles[t, :] = log_particles[t, resampled_indexes]\n",
    "            log_W[t, :] = np.log(np.ones(L)/L) # the new particles have equal weight\n",
    "        \n",
    "        W[t, :] = np.exp(log_W[t, :])\n",
    "        \n",
    "    # Evaluate marginal likelihood\n",
    "    marginal_likelihood = np.prod(np.sum(W, axis=1)/L)\n",
    "    \n",
    "    return log_particles, W, marginal_likelihood"
   ]
  },
  {
   "cell_type": "code",
   "execution_count": 10,
   "metadata": {},
   "outputs": [
    {
     "data": {
      "text/plain": [
       "<matplotlib.legend.Legend at 0x11cae9ac8>"
      ]
     },
     "execution_count": 10,
     "metadata": {},
     "output_type": "execute_result"
    },
    {
     "data": {
      "image/png": "[encoded data removed]",
      "text/plain": [
       "<matplotlib.figure.Figure at 0x11c9db240>"
      ]
     },
     "metadata": {},
     "output_type": "display_data"
    }
   ],
   "source": [
    "L = 50\n",
    "\n",
    "log_particles, W, marginal_likelihood = SMC(Y, T, L, n_0, b_0, sigma_eps, sigma_w)\n",
    "\n",
    "log_particles_averaged = [np.average(log_particles[t,:], weights=W[t,:], axis=0) for t in range(T)]\n",
    "\n",
    "plt.plot(log_N[:-1])\n",
    "plt.plot(log_particles_averaged) \n",
    "plt.legend([\"Simulated trajectory\", \"Estimated trajectory\"])"
   ]
  },
  {
   "cell_type": "markdown",
   "metadata": {},
   "source": [
    "## Stage 3 : Generic PMCMC"
   ]
  },
  {
   "cell_type": "markdown",
   "metadata": {},
   "source": [
    "TODO (everything is described page 9): \n",
    "- define initialization of generic PMCMC\n",
    "- compute acceptance proba (what is $p(\\theta)$ ?)\n",
    "- sample candidate path"
   ]
  },
  {
   "cell_type": "code",
   "execution_count": 12,
   "metadata": {},
   "outputs": [
    {
     "ename": "NameError",
     "evalue": "name 'prev_marginal_likelihood' is not defined",
     "output_type": "error",
     "traceback": [
      "\u001b[0;31m---------------------------------------------------------------------------\u001b[0m",
      "\u001b[0;31mNameError\u001b[0m                                 Traceback (most recent call last)",
      "\u001b[0;32m<ipython-input-12-07cc20334d2e>\u001b[0m in \u001b[0;36m<module>\u001b[0;34m()\u001b[0m\n\u001b[1;32m     22\u001b[0m \u001b[0;34m\u001b[0m\u001b[0m\n\u001b[1;32m     23\u001b[0m     \u001b[0;31m# compute acceptance proba\u001b[0m\u001b[0;34m\u001b[0m\u001b[0;34m\u001b[0m\u001b[0m\n\u001b[0;32m---> 24\u001b[0;31m     \u001b[0mmarginal_likelihood_ratio\u001b[0m \u001b[0;34m=\u001b[0m \u001b[0mmarginal_likelihood\u001b[0m\u001b[0;34m/\u001b[0m\u001b[0mprev_marginal_likelihood\u001b[0m\u001b[0;34m\u001b[0m\u001b[0m\n\u001b[0m\u001b[1;32m     25\u001b[0m     \u001b[0mmarginal_theta_ratio\u001b[0m \u001b[0;34m=\u001b[0m \u001b[0;36m1\u001b[0m \u001b[0;31m# to compute\u001b[0m\u001b[0;34m\u001b[0m\u001b[0m\n\u001b[1;32m     26\u001b[0m     \u001b[0mtheta_proposal_ratio\u001b[0m \u001b[0;34m=\u001b[0m \u001b[0mq\u001b[0m\u001b[0;34m(\u001b[0m\u001b[0mtheta\u001b[0m\u001b[0;34m,\u001b[0m \u001b[0mtheta_hist\u001b[0m\u001b[0;34m[\u001b[0m\u001b[0;34m-\u001b[0m\u001b[0;36m1\u001b[0m\u001b[0;34m]\u001b[0m\u001b[0;34m)\u001b[0m\u001b[0;34m/\u001b[0m\u001b[0mq\u001b[0m\u001b[0;34m(\u001b[0m\u001b[0mtheta_hist\u001b[0m\u001b[0;34m[\u001b[0m\u001b[0;34m-\u001b[0m\u001b[0;36m1\u001b[0m\u001b[0;34m]\u001b[0m\u001b[0;34m,\u001b[0m \u001b[0mtheta\u001b[0m\u001b[0;34m)\u001b[0m\u001b[0;34m\u001b[0m\u001b[0m\n",
      "\u001b[0;31mNameError\u001b[0m: name 'prev_marginal_likelihood' is not defined"
     ]
    }
   ],
   "source": [
    "n_steps = 10\n",
    "\n",
    "# draw uniforms for accept-reject procedure\n",
    "uniforms = np.random.uniform(0, 1, n_steps)\n",
    "\n",
    "theta_hist = []\n",
    "N_hist = []\n",
    "\n",
    "# Initialization ??\n",
    "\n",
    "theta = np.array([b_0, sigma_eps, sigma_w])\n",
    "\n",
    "for j in range(n_steps):\n",
    "    # draw theta wrt non adaptive proposal\n",
    "    theta = nonAdaptiveThetaProposal(theta)\n",
    "    b_0, sigma_eps, sigma_w = theta \n",
    "    \n",
    "    # run SMC\n",
    "    log_particles, W, marginal_likelihood = SMC(Y, T, L, n_0, b_0, sigma_eps, sigma_w)\n",
    "    \n",
    "    # sample a candidate path\n",
    "    # needs to be randomized\n",
    "    candidate_path = log_particles[:, 1]\n",
    "    \n",
    "    # compute acceptance proba\n",
    "    marginal_likelihood_ratio = marginal_likelihood/prev_marginal_likelihood\n",
    "    marginal_theta_ratio = 1 # to compute\n",
    "    theta_proposal_ratio = q(theta, theta_hist[-1])/q(theta_hist[-1], theta)\n",
    "    \n",
    "    alpha = marginal_likelihood_ratio*marginal_theta_ratio*theta_proposal_ratio\n",
    "    \n",
    "    if uniforms[j] < alpha:\n",
    "        prev_marginal_likelihood = marginal_likelihood\n",
    "        theta_hist.append(theta)\n",
    "        N_hist.append(candidate_path)"
   ]
  },
  {
   "cell_type": "markdown",
   "metadata": {},
   "source": [
    "## Annealing"
   ]
  },
  {
   "cell_type": "markdown",
   "metadata": {},
   "source": [
    "Random initialization of the parameters $(\\theta, N_{1:T})$, followed by annealed AdPMCMC using a sequence of distribuitons :\n",
    "\n",
    "\\begin{equation}\n",
    "p_n(\\theta, N_{1:T} | y_{1:T}) = p(\\theta, N_{1:T})^{1-\\gamma_n}p(y_{1:T}|\\theta, N_{1:T})^{\\gamma_n}\n",
    "\\end{equation}\n",
    "\n",
    "(in the model $M_0$, $\\theta = (b_0, \\sigma_\\epsilon, \\sigma_w)$"
   ]
  }
 ],
 "metadata": {
  "kernelspec": {
   "display_name": "Python 3",
   "language": "python",
   "name": "python3"
  },
  "language_info": {
   "codemirror_mode": {
    "name": "ipython",
    "version": 3
   },
   "file_extension": ".py",
   "mimetype": "text/x-python",
   "name": "python",
   "nbconvert_exporter": "python",
   "pygments_lexer": "ipython3",
   "version": "3.5.3"
  }
 },
 "nbformat": 4,
 "nbformat_minor": 2
}
