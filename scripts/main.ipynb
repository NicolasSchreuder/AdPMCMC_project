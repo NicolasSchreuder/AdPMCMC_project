{
 "cells": [
  {
   "cell_type": "markdown",
   "metadata": {},
   "source": [
    "# AdPMCMC on model $M_0$ to $M_2$"
   ]
  },
  {
   "cell_type": "code",
   "execution_count": 1,
   "metadata": {},
   "outputs": [
    {
     "name": "stdout",
     "output_type": "stream",
     "text": [
      "Populating the interactive namespace from numpy and matplotlib\n"
     ]
    }
   ],
   "source": [
    "import warnings\n",
    "warnings.filterwarnings(\"ignore\")\n",
    "\n",
    "import numpy as np\n",
    "\n",
    "import pandas as pd\n",
    "\n",
    "import scipy\n",
    "from scipy.stats import invgamma\n",
    "from scipy.stats import norm\n",
    "\n",
    "import matplotlib.pyplot as plt\n",
    "import seaborn\n",
    "%pylab inline\n",
    "\n",
    "from tqdm import tqdm \n",
    "\n",
    "# Homemade functions\n",
    "from utils import process_date, gaussian_log_density, stratified_resampling, gaussian_kernel_density, equation\n",
    "from trajectorySimulation import trajectory_simulation\n",
    "from SMC import SMC\n",
    "from AdPMCMC import AdPMCMC_M0, AdPMCMC_M2"
   ]
  },
  {
   "cell_type": "markdown",
   "metadata": {},
   "source": [
    "We begin by considering the model $M_0$ : \n",
    "\\begin{equation}\n",
    "\\log N_{t+1} = \\log N_t + b_0 + \\epsilon_t\n",
    "\\end{equation}\n",
    "\n",
    "with $\\epsilon_t \\sim \\mathcal{N}(0, \\sigma_\\epsilon^2)$. \n",
    "\n",
    "We put a Gaussian prior on the maximum per-individual growth rate parameter : $b_0 \\sim \\mathcal{N}(0, 1)$.\n",
    "We use inverse Gamma priors for the variance noises :\n",
    "\n",
    "$\\sigma_\\epsilon^2 \\sim \\mathcal{IG}(\\alpha_\\epsilon, \\beta_\\epsilon)$\n",
    "\n",
    "$\\sigma_w^2 \\sim \\mathcal{IG}(\\alpha_w, \\beta_w)$\n",
    "\n",
    "with hyperpameters $\\alpha_\\epsilon=\\alpha_w=\\frac{T}{2}$ and $\\beta_\\epsilon=\\beta_w=\\frac{2(\\alpha_\\epsilon-1)}{10}$."
   ]
  },
  {
   "cell_type": "markdown",
   "metadata": {},
   "source": [
    "## MCMC kernel for $\\theta$"
   ]
  },
  {
   "cell_type": "code",
   "execution_count": 2,
   "metadata": {
    "collapsed": true
   },
   "outputs": [],
   "source": [
    "from kernels import non_adaptive_theta_proposal, adaptive_theta_proposal"
   ]
  },
  {
   "cell_type": "markdown",
   "metadata": {},
   "source": [
    "## SMC sampler for $n_{1:T}$"
   ]
  },
  {
   "cell_type": "markdown",
   "metadata": {},
   "source": [
    "In the paper, there seems to be a simulation of $b_0$ per particles, see Algorithm 1, p.31, this seems odd."
   ]
  },
  {
   "cell_type": "markdown",
   "metadata": {},
   "source": [
    "See \"Log-PF: Particle Filtering in Logarithm Domain\" for log-normalization of weights\n",
    "Need to check initialisation for other models than M_0"
   ]
  },
  {
   "cell_type": "code",
   "execution_count": 3,
   "metadata": {
    "collapsed": true
   },
   "outputs": [],
   "source": [
    "def SMC(Y, T, L, N_0, model, SigmaEps , SigmaW, B_0=0 , B_1=0 , B_2=0 , B_3=0 , B_4=0):\n",
    "    \"\"\"\n",
    "    Particle filter for M0 model\n",
    "    y : observation trajectory\n",
    "    T : time horizon\n",
    "    L : number of particles\n",
    "    n_0 : initial value of latent variable\n",
    "    b_0, sigma_eps, sigma_w : M0 parameters\n",
    "    \"\"\"\n",
    "    \n",
    "    # Initialization of log particles and log-weights matrix\n",
    "    LogParticles = np.zeros((T, L))\n",
    "    LogW = np.zeros((T, L))\n",
    "    \n",
    "    # Initialization of likelihood matrix \n",
    "    # Contains the obs likelihood for each particle\n",
    "    w = np.zeros((T, L))\n",
    "    \n",
    "    # Initialization : check if OK for other models than M\n",
    "    LogParticles[0, :] = np.log(N_0)\n",
    "    \n",
    "    # Log-weight computation\n",
    "    for l in range(L):\n",
    "        w[0, l] = gaussian_log_density(Y[0], LogParticles[0, l], SigmaW)\n",
    "        LogW[0, l] = w[0, l]\n",
    "    \n",
    "    # Log-weight normalization\n",
    "    LogW[0, :] -= np.max(LogW[0, :]) # scaling   \n",
    "    LogSumOfWeights = np.log(sum(np.exp(LogW[0, :]))) \n",
    "    LogW[0, :] -= LogSumOfWeights\n",
    "        \n",
    "    for t in range(1, T):\n",
    "        for l in range(L):\n",
    "            # Propagation\n",
    "            #LogParticles[t, l] = LogParticles[t-1, l] + B_0 + np.random.normal(0, SigmaEps)\n",
    "            LogParticles[t, l] = equation(LogParticles[t-1, l],model,SigmaEps,B_0,B_1,B_2,B_3,B_4)\n",
    "        \n",
    "            # Log-weight computation\n",
    "            w[t, l] = gaussian_log_density(Y[t], LogParticles[t, l], SigmaW)\n",
    "            LogW[t, l] = LogW[t-1, l] + w[t, l]\n",
    "                \n",
    "        # Weight normalization (log scale)\n",
    "        LogW[t, :] -= np.max(LogW[t, :]) # scaling   \n",
    "        LogSumOfWeights = np.log(sum(np.exp(LogW[t, :]))) \n",
    "        LogW[t, :] -= LogSumOfWeights\n",
    "                            \n",
    "        # Adaptive resampling : sample if ESS < 80% of number of particles\n",
    "        ESS = 1/sum(np.exp(LogW[t, :])**2)\n",
    "                        \n",
    "        if ESS < 0.8*L:\n",
    "            # resample indexes according to the normalized importance weights\n",
    "            ResampledIndexes = stratified_resampling(np.exp(LogW[t, :]))\n",
    "            LogParticles[t, :] = LogParticles[t, ResampledIndexes]\n",
    "            LogW[t, :] = np.log(np.ones(L)/L) # the new particles have equal weight\n",
    "                \n",
    "    # Evaluate marginal likelihood\n",
    "    \n",
    "    LogMarginalLikelihood = np.sum(np.log(np.sum(np.exp(w), axis=1)/L))     \n",
    "        \n",
    "    return LogParticles, LogW, LogMarginalLikelihood"
   ]
  },
  {
   "cell_type": "code",
   "execution_count": 18,
   "metadata": {
    "scrolled": false
   },
   "outputs": [
    {
     "data": {
      "image/png": "[encoded data removed]",
      "text/plain": [
       "<matplotlib.figure.Figure at 0x11d67f1d0>"
      ]
     },
     "metadata": {},
     "output_type": "display_data"
    }
   ],
   "source": [
    "# Model choice and general model parameters\n",
    "model='M0'\n",
    "b_0 = 0.15\n",
    "b_2 = -0.125\n",
    "b_3 = 0.1\n",
    "sigma_w = 0.39 # observation noise\n",
    "sigma_eps = 0.47 # process noise\n",
    "n_0 = 1.27 # starting point of latent variable\n",
    "T = 30 # time horizon\n",
    "\n",
    "# Simulate and plot a trajectory\n",
    "log_N, Y = trajectory_simulation(model = model, T=T, n_0=n_0, b_0=b_0,b_2=b_2,b_3=b_3,\n",
    "                                sigma_eps=sigma_eps, sigma_w=sigma_w)\n",
    "\n",
    "f, (ax1, ax2) = plt.subplots(1, 2)\n",
    "st = f.suptitle(\"Simulated data (Model \"+model+\")\", fontsize=\"x-large\")\n",
    "\n",
    "ax1.plot(log_N)\n",
    "ax1.set_title('Latent process (log scale)')\n",
    "ax2.plot(Y)\n",
    "ax2.set_title('Observation process')\n",
    "\n",
    "plt.tight_layout()\n",
    "\n",
    "st.set_y(0.95)\n",
    "f.subplots_adjust(top=0.80)"
   ]
  },
  {
   "cell_type": "code",
   "execution_count": 19,
   "metadata": {
    "scrolled": true
   },
   "outputs": [
    {
     "name": "stdout",
     "output_type": "stream",
     "text": [
      "-57.1031637188\n"
     ]
    },
    {
     "data": {
      "image/png": "[encoded data removed]",
      "text/plain": [
       "<matplotlib.figure.Figure at 0x11dec23c8>"
      ]
     },
     "metadata": {},
     "output_type": "display_data"
    }
   ],
   "source": [
    "L = 500 # number of particles\n",
    "\n",
    "log_particles, log_W, log_marginal_likelihood = SMC(Y, T, L, n_0,model,sigma_eps, sigma_w,B_0=b_0,B_2=b_2,B_3=b_3)\n",
    "\n",
    "log_particles_averaged = [np.average(log_particles[t, :], weights=np.exp(log_W[t, :]), axis=0) \n",
    "                          for t in range(T)]\n",
    "\n",
    "plt.plot(log_N[:-1])\n",
    "plt.plot(log_particles) \n",
    "plt.legend([\"Simulated trajectory\", \"Estimated trajectory\"])\n",
    "print(log_marginal_likelihood)"
   ]
  },
  {
   "cell_type": "markdown",
   "metadata": {},
   "source": [
    "## Stage 3 : Generic PMCMC"
   ]
  },
  {
   "cell_type": "code",
   "execution_count": 40,
   "metadata": {},
   "outputs": [
    {
     "name": "stderr",
     "output_type": "stream",
     "text": [
      "Running AdPMCMC:   0%|          | 4/10000 [00:00<12:42, 13.10it/s]"
     ]
    },
    {
     "name": "stdout",
     "output_type": "stream",
     "text": [
      "Number of inf log-likelihood : 0 ; Number of accepted samples : 2\n"
     ]
    },
    {
     "name": "stderr",
     "output_type": "stream",
     "text": [
      "Running AdPMCMC:   5%|▌         | 502/10000 [00:48<15:14, 10.38it/s]"
     ]
    },
    {
     "name": "stdout",
     "output_type": "stream",
     "text": [
      "Number of inf log-likelihood : 0 ; Number of accepted samples : 327\n"
     ]
    },
    {
     "name": "stderr",
     "output_type": "stream",
     "text": [
      "Running AdPMCMC:  10%|█         | 1002/10000 [01:38<14:40, 10.22it/s]"
     ]
    },
    {
     "name": "stdout",
     "output_type": "stream",
     "text": [
      "Number of inf log-likelihood : 10 ; Number of accepted samples : 367\n"
     ]
    },
    {
     "name": "stderr",
     "output_type": "stream",
     "text": [
      "Running AdPMCMC:  15%|█▌        | 1503/10000 [02:19<13:08, 10.77it/s]"
     ]
    },
    {
     "name": "stdout",
     "output_type": "stream",
     "text": [
      "Number of inf log-likelihood : 39 ; Number of accepted samples : 435\n"
     ]
    },
    {
     "name": "stderr",
     "output_type": "stream",
     "text": [
      "Running AdPMCMC:  20%|██        | 2002/10000 [03:05<12:22, 10.77it/s]"
     ]
    },
    {
     "name": "stdout",
     "output_type": "stream",
     "text": [
      "Number of inf log-likelihood : 68 ; Number of accepted samples : 458\n"
     ]
    },
    {
     "name": "stderr",
     "output_type": "stream",
     "text": [
      "Running AdPMCMC:  25%|██▌       | 2502/10000 [03:51<11:33, 10.81it/s]"
     ]
    },
    {
     "name": "stdout",
     "output_type": "stream",
     "text": [
      "Number of inf log-likelihood : 97 ; Number of accepted samples : 517\n"
     ]
    },
    {
     "name": "stderr",
     "output_type": "stream",
     "text": [
      "Running AdPMCMC:  30%|███       | 3001/10000 [04:35<10:41, 10.90it/s]"
     ]
    },
    {
     "name": "stdout",
     "output_type": "stream",
     "text": [
      "Number of inf log-likelihood : 110 ; Number of accepted samples : 573\n"
     ]
    },
    {
     "name": "stderr",
     "output_type": "stream",
     "text": [
      "Running AdPMCMC:  35%|███▌      | 3503/10000 [05:18<09:49, 11.01it/s]"
     ]
    },
    {
     "name": "stdout",
     "output_type": "stream",
     "text": [
      "Number of inf log-likelihood : 139 ; Number of accepted samples : 638\n"
     ]
    },
    {
     "name": "stderr",
     "output_type": "stream",
     "text": [
      "Running AdPMCMC:  40%|████      | 4003/10000 [06:00<08:59, 11.11it/s]"
     ]
    },
    {
     "name": "stdout",
     "output_type": "stream",
     "text": [
      "Number of inf log-likelihood : 157 ; Number of accepted samples : 694\n"
     ]
    },
    {
     "name": "stderr",
     "output_type": "stream",
     "text": [
      "Running AdPMCMC:  45%|████▌     | 4502/10000 [06:42<08:11, 11.18it/s]"
     ]
    },
    {
     "name": "stdout",
     "output_type": "stream",
     "text": [
      "Number of inf log-likelihood : 175 ; Number of accepted samples : 763\n"
     ]
    },
    {
     "name": "stderr",
     "output_type": "stream",
     "text": [
      "Running AdPMCMC:  50%|█████     | 5002/10000 [07:23<07:23, 11.28it/s]"
     ]
    },
    {
     "name": "stdout",
     "output_type": "stream",
     "text": [
      "Number of inf log-likelihood : 187 ; Number of accepted samples : 838\n"
     ]
    },
    {
     "name": "stderr",
     "output_type": "stream",
     "text": [
      "Running AdPMCMC:  55%|█████▌    | 5502/10000 [08:03<06:35, 11.37it/s]"
     ]
    },
    {
     "name": "stdout",
     "output_type": "stream",
     "text": [
      "Number of inf log-likelihood : 203 ; Number of accepted samples : 917\n"
     ]
    },
    {
     "name": "stderr",
     "output_type": "stream",
     "text": [
      "Running AdPMCMC:  60%|██████    | 6002/10000 [08:44<05:49, 11.44it/s]"
     ]
    },
    {
     "name": "stdout",
     "output_type": "stream",
     "text": [
      "Number of inf log-likelihood : 220 ; Number of accepted samples : 953\n"
     ]
    },
    {
     "name": "stderr",
     "output_type": "stream",
     "text": [
      "Running AdPMCMC:  65%|██████▌   | 6502/10000 [09:25<05:04, 11.50it/s]"
     ]
    },
    {
     "name": "stdout",
     "output_type": "stream",
     "text": [
      "Number of inf log-likelihood : 241 ; Number of accepted samples : 978\n"
     ]
    },
    {
     "name": "stderr",
     "output_type": "stream",
     "text": [
      "Running AdPMCMC:  70%|███████   | 7002/10000 [10:05<04:19, 11.56it/s]"
     ]
    },
    {
     "name": "stdout",
     "output_type": "stream",
     "text": [
      "Number of inf log-likelihood : 253 ; Number of accepted samples : 989\n"
     ]
    },
    {
     "name": "stderr",
     "output_type": "stream",
     "text": [
      "Running AdPMCMC:  75%|███████▌  | 7502/10000 [10:46<03:35, 11.60it/s]"
     ]
    },
    {
     "name": "stdout",
     "output_type": "stream",
     "text": [
      "Number of inf log-likelihood : 275 ; Number of accepted samples : 1054\n"
     ]
    },
    {
     "name": "stderr",
     "output_type": "stream",
     "text": [
      "Running AdPMCMC:  80%|████████  | 8003/10000 [11:29<02:51, 11.61it/s]"
     ]
    },
    {
     "name": "stdout",
     "output_type": "stream",
     "text": [
      "Number of inf log-likelihood : 288 ; Number of accepted samples : 1114\n"
     ]
    },
    {
     "name": "stderr",
     "output_type": "stream",
     "text": [
      "Running AdPMCMC:  85%|████████▌ | 8503/10000 [12:09<02:08, 11.65it/s]"
     ]
    },
    {
     "name": "stdout",
     "output_type": "stream",
     "text": [
      "Number of inf log-likelihood : 306 ; Number of accepted samples : 1152\n"
     ]
    },
    {
     "name": "stderr",
     "output_type": "stream",
     "text": [
      "Running AdPMCMC:  90%|█████████ | 9003/10000 [12:50<01:25, 11.69it/s]"
     ]
    },
    {
     "name": "stdout",
     "output_type": "stream",
     "text": [
      "Number of inf log-likelihood : 329 ; Number of accepted samples : 1189\n"
     ]
    },
    {
     "name": "stderr",
     "output_type": "stream",
     "text": [
      "Running AdPMCMC:  95%|█████████▌| 9503/10000 [13:30<00:42, 11.72it/s]"
     ]
    },
    {
     "name": "stdout",
     "output_type": "stream",
     "text": [
      "Number of inf log-likelihood : 348 ; Number of accepted samples : 1264\n"
     ]
    },
    {
     "name": "stderr",
     "output_type": "stream",
     "text": [
      "Running AdPMCMC: 100%|██████████| 10000/10000 [14:11<00:00, 11.74it/s]"
     ]
    },
    {
     "name": "stdout",
     "output_type": "stream",
     "text": [
      "Number of samples : 1314\n"
     ]
    },
    {
     "name": "stderr",
     "output_type": "stream",
     "text": [
      "\n"
     ]
    }
   ],
   "source": [
    "n_steps = 10000 # number of iterations \n",
    "L = 300 # number of particles\n",
    "adaptive_rate = 0.5  # adaptive rate (set to 0 for non-adaptive proposal)\n",
    "\n",
    "theta_hist_M0 = AdPMCMC_M0(n_steps, T, adaptive_rate, Y, L, n_0)"
   ]
  },
  {
   "cell_type": "code",
   "execution_count": 44,
   "metadata": {},
   "outputs": [
    {
     "name": "stderr",
     "output_type": "stream",
     "text": [
      "Running AdPMCMC:   0%|          | 2/10000 [00:00<18:07,  9.19it/s]"
     ]
    },
    {
     "name": "stdout",
     "output_type": "stream",
     "text": [
      "Number of inf log-likelihood : 0 ; Number of accepted samples : 2\n"
     ]
    },
    {
     "name": "stderr",
     "output_type": "stream",
     "text": [
      "Running AdPMCMC:   5%|▌         | 502/10000 [00:53<16:51,  9.39it/s]"
     ]
    },
    {
     "name": "stdout",
     "output_type": "stream",
     "text": [
      "Number of inf log-likelihood : 0 ; Number of accepted samples : 358\n"
     ]
    },
    {
     "name": "stderr",
     "output_type": "stream",
     "text": [
      "Running AdPMCMC:  10%|█         | 1002/10000 [01:44<15:39,  9.58it/s]"
     ]
    },
    {
     "name": "stdout",
     "output_type": "stream",
     "text": [
      "Number of inf log-likelihood : 11 ; Number of accepted samples : 496\n"
     ]
    },
    {
     "name": "stderr",
     "output_type": "stream",
     "text": [
      "Running AdPMCMC:  15%|█▌        | 1502/10000 [02:34<14:32,  9.74it/s]"
     ]
    },
    {
     "name": "stdout",
     "output_type": "stream",
     "text": [
      "Number of inf log-likelihood : 28 ; Number of accepted samples : 578\n"
     ]
    },
    {
     "name": "stderr",
     "output_type": "stream",
     "text": [
      "Running AdPMCMC:  20%|██        | 2004/10000 [03:25<13:38,  9.77it/s]"
     ]
    },
    {
     "name": "stdout",
     "output_type": "stream",
     "text": [
      "Number of inf log-likelihood : 50 ; Number of accepted samples : 651\n"
     ]
    },
    {
     "name": "stderr",
     "output_type": "stream",
     "text": [
      "Running AdPMCMC:  25%|██▌       | 2502/10000 [04:14<12:42,  9.84it/s]"
     ]
    },
    {
     "name": "stdout",
     "output_type": "stream",
     "text": [
      "Number of inf log-likelihood : 67 ; Number of accepted samples : 742\n"
     ]
    },
    {
     "name": "stderr",
     "output_type": "stream",
     "text": [
      "Running AdPMCMC:  30%|███       | 3003/10000 [05:04<11:50,  9.85it/s]"
     ]
    },
    {
     "name": "stdout",
     "output_type": "stream",
     "text": [
      "Number of inf log-likelihood : 82 ; Number of accepted samples : 799\n"
     ]
    },
    {
     "name": "stderr",
     "output_type": "stream",
     "text": [
      "Running AdPMCMC:  35%|███▌      | 3502/10000 [05:53<10:56,  9.90it/s]"
     ]
    },
    {
     "name": "stdout",
     "output_type": "stream",
     "text": [
      "Number of inf log-likelihood : 160 ; Number of accepted samples : 857\n"
     ]
    },
    {
     "name": "stderr",
     "output_type": "stream",
     "text": [
      "Running AdPMCMC:  40%|████      | 4002/10000 [06:42<10:03,  9.93it/s]"
     ]
    },
    {
     "name": "stdout",
     "output_type": "stream",
     "text": [
      "Number of inf log-likelihood : 204 ; Number of accepted samples : 934\n"
     ]
    },
    {
     "name": "stderr",
     "output_type": "stream",
     "text": [
      "Running AdPMCMC:  45%|████▌     | 4503/10000 [07:31<09:11,  9.96it/s]"
     ]
    },
    {
     "name": "stdout",
     "output_type": "stream",
     "text": [
      "Number of inf log-likelihood : 251 ; Number of accepted samples : 1031\n"
     ]
    },
    {
     "name": "stderr",
     "output_type": "stream",
     "text": [
      "Running AdPMCMC:  50%|█████     | 5002/10000 [08:20<08:20,  9.99it/s]"
     ]
    },
    {
     "name": "stdout",
     "output_type": "stream",
     "text": [
      "Number of inf log-likelihood : 312 ; Number of accepted samples : 1093\n"
     ]
    },
    {
     "name": "stderr",
     "output_type": "stream",
     "text": [
      "Running AdPMCMC:  55%|█████▌    | 5502/10000 [09:09<07:29, 10.01it/s]"
     ]
    },
    {
     "name": "stdout",
     "output_type": "stream",
     "text": [
      "Number of inf log-likelihood : 379 ; Number of accepted samples : 1152\n"
     ]
    },
    {
     "name": "stderr",
     "output_type": "stream",
     "text": [
      "Running AdPMCMC:  60%|██████    | 6002/10000 [10:00<06:39, 10.00it/s]"
     ]
    },
    {
     "name": "stdout",
     "output_type": "stream",
     "text": [
      "Number of inf log-likelihood : 466 ; Number of accepted samples : 1249\n"
     ]
    },
    {
     "name": "stderr",
     "output_type": "stream",
     "text": [
      "Running AdPMCMC:  65%|██████▌   | 6502/10000 [10:51<05:50,  9.97it/s]"
     ]
    },
    {
     "name": "stdout",
     "output_type": "stream",
     "text": [
      "Number of inf log-likelihood : 522 ; Number of accepted samples : 1335\n"
     ]
    },
    {
     "name": "stderr",
     "output_type": "stream",
     "text": [
      "Running AdPMCMC:  70%|███████   | 7002/10000 [11:58<05:07,  9.75it/s]"
     ]
    },
    {
     "name": "stdout",
     "output_type": "stream",
     "text": [
      "Number of inf log-likelihood : 592 ; Number of accepted samples : 1408\n"
     ]
    },
    {
     "name": "stderr",
     "output_type": "stream",
     "text": [
      "Running AdPMCMC:  75%|███████▌  | 7502/10000 [12:58<04:19,  9.64it/s]"
     ]
    },
    {
     "name": "stdout",
     "output_type": "stream",
     "text": [
      "Number of inf log-likelihood : 647 ; Number of accepted samples : 1475\n"
     ]
    },
    {
     "name": "stderr",
     "output_type": "stream",
     "text": [
      "Running AdPMCMC:  80%|████████  | 8002/10000 [13:51<03:27,  9.63it/s]"
     ]
    },
    {
     "name": "stdout",
     "output_type": "stream",
     "text": [
      "Number of inf log-likelihood : 697 ; Number of accepted samples : 1544\n"
     ]
    },
    {
     "name": "stderr",
     "output_type": "stream",
     "text": [
      "Running AdPMCMC:  85%|████████▌ | 8502/10000 [14:46<02:36,  9.59it/s]"
     ]
    },
    {
     "name": "stdout",
     "output_type": "stream",
     "text": [
      "Number of inf log-likelihood : 724 ; Number of accepted samples : 1597\n"
     ]
    },
    {
     "name": "stderr",
     "output_type": "stream",
     "text": [
      "Running AdPMCMC:  90%|█████████ | 9002/10000 [15:45<01:44,  9.52it/s]"
     ]
    },
    {
     "name": "stdout",
     "output_type": "stream",
     "text": [
      "Number of inf log-likelihood : 761 ; Number of accepted samples : 1677\n"
     ]
    },
    {
     "name": "stderr",
     "output_type": "stream",
     "text": [
      "Running AdPMCMC:  95%|█████████▌| 9502/10000 [16:44<00:52,  9.46it/s]"
     ]
    },
    {
     "name": "stdout",
     "output_type": "stream",
     "text": [
      "Number of inf log-likelihood : 770 ; Number of accepted samples : 1754\n"
     ]
    },
    {
     "name": "stderr",
     "output_type": "stream",
     "text": [
      "Running AdPMCMC: 100%|██████████| 10000/10000 [17:42<00:00,  9.41it/s]"
     ]
    },
    {
     "name": "stdout",
     "output_type": "stream",
     "text": [
      "Number of samples : 1815\n"
     ]
    },
    {
     "name": "stderr",
     "output_type": "stream",
     "text": [
      "\n"
     ]
    }
   ],
   "source": [
    "theta_hist_M2 = AdPMCMC_M2(n_steps, T, adaptive_rate, Y, L, n_0)"
   ]
  },
  {
   "cell_type": "code",
   "execution_count": 71,
   "metadata": {},
   "outputs": [
    {
     "data": {
      "image/png": "[encoded data removed]",
      "text/plain": [
       "<matplotlib.figure.Figure at 0x121039d68>"
      ]
     },
     "metadata": {},
     "output_type": "display_data"
    }
   ],
   "source": [
    "# burn-in time\n",
    "theta_history_M0 = np.array(theta_hist_M0[:])\n",
    "theta_history_M2 = np.array(theta_hist_M2[:])\n",
    "plt.plot(theta_history_M2[:,4])\n",
    "savefig('values_sigma_w_10k_300p_M2')"
   ]
  },
  {
   "cell_type": "code",
   "execution_count": 90,
   "metadata": {},
   "outputs": [
    {
     "name": "stdout",
     "output_type": "stream",
     "text": [
      "0.492489805234\n"
     ]
    },
    {
     "data": {
      "image/png": "[encoded data removed]",
      "text/plain": [
       "<matplotlib.figure.Figure at 0x121c04d30>"
      ]
     },
     "metadata": {},
     "output_type": "display_data"
    }
   ],
   "source": [
    "plt.hist(theta_history_M2[500:, 4], bins=50)\n",
    "print(theta_history_M0[:,1].mean())\n",
    "#plt.title('Posterior density for b_0')\n",
    "savefig('posterior_sigma_w_10k_300p_M2_burn500')"
   ]
  },
  {
   "cell_type": "markdown",
   "metadata": {
    "collapsed": true
   },
   "source": [
    "# Real data"
   ]
  },
  {
   "cell_type": "markdown",
   "metadata": {},
   "source": [
    "We load the nutria database and plot the trajcetory of the myocastor coypus population :"
   ]
  },
  {
   "cell_type": "code",
   "execution_count": 91,
   "metadata": {},
   "outputs": [
    {
     "data": {
      "text/html": [
       "<div>\n",
       "<style scoped>\n",
       "    .dataframe tbody tr th:only-of-type {\n",
       "        vertical-align: middle;\n",
       "    }\n",
       "\n",
       "    .dataframe tbody tr th {\n",
       "        vertical-align: top;\n",
       "    }\n",
       "\n",
       "    .dataframe thead th {\n",
       "        text-align: right;\n",
       "    }\n",
       "</style>\n",
       "<table border=\"1\" class=\"dataframe\">\n",
       "  <thead>\n",
       "    <tr style=\"text-align: right;\">\n",
       "      <th></th>\n",
       "      <th>TaxonName</th>\n",
       "      <th>MainID</th>\n",
       "      <th>TimeOfSample</th>\n",
       "      <th>Population</th>\n",
       "      <th>Abundance</th>\n",
       "      <th>YearMonth</th>\n",
       "    </tr>\n",
       "  </thead>\n",
       "  <tbody>\n",
       "    <tr>\n",
       "      <th>0</th>\n",
       "      <td>Myocastor coypus</td>\n",
       "      <td>9833</td>\n",
       "      <td>1970.01</td>\n",
       "      <td>0.55</td>\n",
       "      <td>550</td>\n",
       "      <td>719163.0</td>\n",
       "    </tr>\n",
       "    <tr>\n",
       "      <th>1</th>\n",
       "      <td>Myocastor coypus</td>\n",
       "      <td>9833</td>\n",
       "      <td>1970.02</td>\n",
       "      <td>0.55</td>\n",
       "      <td>550</td>\n",
       "      <td>719194.0</td>\n",
       "    </tr>\n",
       "    <tr>\n",
       "      <th>2</th>\n",
       "      <td>Myocastor coypus</td>\n",
       "      <td>9833</td>\n",
       "      <td>1970.03</td>\n",
       "      <td>0.60</td>\n",
       "      <td>600</td>\n",
       "      <td>719222.0</td>\n",
       "    </tr>\n",
       "    <tr>\n",
       "      <th>3</th>\n",
       "      <td>Myocastor coypus</td>\n",
       "      <td>9833</td>\n",
       "      <td>1970.04</td>\n",
       "      <td>0.55</td>\n",
       "      <td>550</td>\n",
       "      <td>719253.0</td>\n",
       "    </tr>\n",
       "    <tr>\n",
       "      <th>4</th>\n",
       "      <td>Myocastor coypus</td>\n",
       "      <td>9833</td>\n",
       "      <td>1970.05</td>\n",
       "      <td>0.50</td>\n",
       "      <td>500</td>\n",
       "      <td>719283.0</td>\n",
       "    </tr>\n",
       "  </tbody>\n",
       "</table>\n",
       "</div>"
      ],
      "text/plain": [
       "          TaxonName  MainID  TimeOfSample  Population  Abundance  YearMonth\n",
       "0  Myocastor coypus    9833       1970.01        0.55        550   719163.0\n",
       "1  Myocastor coypus    9833       1970.02        0.55        550   719194.0\n",
       "2  Myocastor coypus    9833       1970.03        0.60        600   719222.0\n",
       "3  Myocastor coypus    9833       1970.04        0.55        550   719253.0\n",
       "4  Myocastor coypus    9833       1970.05        0.50        500   719283.0"
      ]
     },
     "execution_count": 91,
     "metadata": {},
     "output_type": "execute_result"
    }
   ],
   "source": [
    "df = pd.read_csv('nutria_data.csv')\n",
    "df['YearMonth'] = df['TimeOfSample'].apply(process_date)\n",
    "df.head()"
   ]
  },
  {
   "cell_type": "code",
   "execution_count": 92,
   "metadata": {
    "scrolled": true
   },
   "outputs": [
    {
     "data": {
      "text/plain": [
       "<matplotlib.text.Text at 0x121ef9c50>"
      ]
     },
     "execution_count": 92,
     "metadata": {},
     "output_type": "execute_result"
    },
    {
     "data": {
      "image/png": "[encoded data removed]",
      "text/plain": [
       "<matplotlib.figure.Figure at 0x121a00400>"
      ]
     },
     "metadata": {},
     "output_type": "display_data"
    }
   ],
   "source": [
    "plt.plot_date(df[\"YearMonth\"],df[\"Abundance\"], '-')\n",
    "plt.title('Abundance of Myocastor coypus in function of time')\n",
    "plt.xlabel('Time')\n",
    "plt.ylabel('Abundance')"
   ]
  },
  {
   "cell_type": "code",
   "execution_count": 93,
   "metadata": {
    "scrolled": true
   },
   "outputs": [
    {
     "name": "stdout",
     "output_type": "stream",
     "text": [
      "-299.337344414\n"
     ]
    },
    {
     "data": {
      "image/png": "[encoded data removed]",
      "text/plain": [
       "<matplotlib.figure.Figure at 0x12222edd8>"
      ]
     },
     "metadata": {},
     "output_type": "display_data"
    }
   ],
   "source": [
    "Y_nutria = df[\"Abundance\"].tolist()\n",
    "n_0_nutria = Y_nutria[0] \n",
    "\n",
    "L = 500 # number of particles\n",
    "#def SMC(Y, T, L, N_0, model, SigmaEps , SigmaW, B_0=0 , B_1=0 , B_2=0 , B_3=0 , B_4=0):\n",
    "\n",
    "log_particles, log_W, log_marginal_likelihood = SMC(Y_nutria, T, L, n_0_nutria,'M0',sigma_eps, sigma_w,B_0=b_0,B_2=b_2,B_3=b_3)\n",
    "\n",
    "log_particles_averaged = [np.average(log_particles[t, :], weights=np.exp(log_W[t, :]), axis=0) \n",
    "                          for t in range(T)]\n",
    "\n",
    "#plt.plot(log_N[:-1])\n",
    "plt.plot(log_particles) \n",
    "plt.legend([\"Simulated trajectory\", \"Estimated trajectory\"])\n",
    "print(log_marginal_likelihood)"
   ]
  },
  {
   "cell_type": "code",
   "execution_count": 94,
   "metadata": {},
   "outputs": [
    {
     "name": "stderr",
     "output_type": "stream",
     "text": [
      "Running AdPMCMC:   0%|          | 3/1000 [00:00<01:28, 11.25it/s]"
     ]
    },
    {
     "name": "stdout",
     "output_type": "stream",
     "text": [
      "Number of inf log-likelihood : 1 ; Number of accepted samples : 2\n"
     ]
    },
    {
     "name": "stderr",
     "output_type": "stream",
     "text": [
      "Running AdPMCMC:   3%|▎         | 31/1000 [00:02<01:21, 11.83it/s]\n"
     ]
    },
    {
     "ename": "KeyboardInterrupt",
     "evalue": "",
     "output_type": "error",
     "traceback": [
      "\u001b[0;31m---------------------------------------------------------------------------\u001b[0m",
      "\u001b[0;31mKeyboardInterrupt\u001b[0m                         Traceback (most recent call last)",
      "\u001b[0;32m<ipython-input-94-a4abcde1be94>\u001b[0m in \u001b[0;36m<module>\u001b[0;34m()\u001b[0m\n\u001b[1;32m      5\u001b[0m \u001b[0madaptive_rate\u001b[0m \u001b[0;34m=\u001b[0m \u001b[0;36m0.5\u001b[0m  \u001b[0;31m# set to 0 -> non-adaptive proposal\u001b[0m\u001b[0;34m\u001b[0m\u001b[0m\n\u001b[1;32m      6\u001b[0m \u001b[0;34m\u001b[0m\u001b[0m\n\u001b[0;32m----> 7\u001b[0;31m \u001b[0mtheta_hist_nutria\u001b[0m \u001b[0;34m=\u001b[0m \u001b[0mAdPMCMC_M0\u001b[0m\u001b[0;34m(\u001b[0m\u001b[0mn_steps\u001b[0m\u001b[0;34m,\u001b[0m \u001b[0mT\u001b[0m\u001b[0;34m,\u001b[0m \u001b[0madaptive_rate\u001b[0m\u001b[0;34m,\u001b[0m \u001b[0mY_nutria\u001b[0m\u001b[0;34m,\u001b[0m \u001b[0mL\u001b[0m\u001b[0;34m,\u001b[0m \u001b[0mn_0_nutria\u001b[0m\u001b[0;34m)\u001b[0m\u001b[0;34m\u001b[0m\u001b[0m\n\u001b[0m",
      "\u001b[0;32m/Users/Sam/AdPMCMC_project/scripts/AdPMCMC.py\u001b[0m in \u001b[0;36mAdPMCMC_M0\u001b[0;34m(NSteps, T, AdaptiveRate, Y, L, N_0)\u001b[0m\n\u001b[1;32m     48\u001b[0m         \u001b[0;31m# run SMC\u001b[0m\u001b[0;34m\u001b[0m\u001b[0;34m\u001b[0m\u001b[0m\n\u001b[1;32m     49\u001b[0m         LogParticles, LogW, LogMarginalLikelihood = SMC(\n\u001b[0;32m---> 50\u001b[0;31m             Y, T, L, N_0,'M0',SigmaEps, SigmaW, B_0)\n\u001b[0m\u001b[1;32m     51\u001b[0m \u001b[0;34m\u001b[0m\u001b[0m\n\u001b[1;32m     52\u001b[0m         \u001b[0;31m#print(LogMarginalLikelihood)\u001b[0m\u001b[0;34m\u001b[0m\u001b[0;34m\u001b[0m\u001b[0m\n",
      "\u001b[0;32m/Users/Sam/AdPMCMC_project/scripts/SMC.py\u001b[0m in \u001b[0;36mSMC\u001b[0;34m(Y, T, L, N_0, model, SigmaEps, SigmaW, B_0, B_1, B_2, B_3, B_4)\u001b[0m\n\u001b[1;32m     45\u001b[0m \u001b[0;34m\u001b[0m\u001b[0m\n\u001b[1;32m     46\u001b[0m             \u001b[0;31m# Log-weight computation\u001b[0m\u001b[0;34m\u001b[0m\u001b[0;34m\u001b[0m\u001b[0m\n\u001b[0;32m---> 47\u001b[0;31m             \u001b[0mw\u001b[0m\u001b[0;34m[\u001b[0m\u001b[0mt\u001b[0m\u001b[0;34m,\u001b[0m \u001b[0ml\u001b[0m\u001b[0;34m]\u001b[0m \u001b[0;34m=\u001b[0m \u001b[0mgaussian_log_density\u001b[0m\u001b[0;34m(\u001b[0m\u001b[0mY\u001b[0m\u001b[0;34m[\u001b[0m\u001b[0mt\u001b[0m\u001b[0;34m]\u001b[0m\u001b[0;34m,\u001b[0m \u001b[0mLogParticles\u001b[0m\u001b[0;34m[\u001b[0m\u001b[0mt\u001b[0m\u001b[0;34m,\u001b[0m \u001b[0ml\u001b[0m\u001b[0;34m]\u001b[0m\u001b[0;34m,\u001b[0m \u001b[0mSigmaW\u001b[0m\u001b[0;34m)\u001b[0m\u001b[0;34m\u001b[0m\u001b[0m\n\u001b[0m\u001b[1;32m     48\u001b[0m             \u001b[0mLogW\u001b[0m\u001b[0;34m[\u001b[0m\u001b[0mt\u001b[0m\u001b[0;34m,\u001b[0m \u001b[0ml\u001b[0m\u001b[0;34m]\u001b[0m \u001b[0;34m=\u001b[0m \u001b[0mLogW\u001b[0m\u001b[0;34m[\u001b[0m\u001b[0mt\u001b[0m\u001b[0;34m-\u001b[0m\u001b[0;36m1\u001b[0m\u001b[0;34m,\u001b[0m \u001b[0ml\u001b[0m\u001b[0;34m]\u001b[0m \u001b[0;34m+\u001b[0m \u001b[0mw\u001b[0m\u001b[0;34m[\u001b[0m\u001b[0mt\u001b[0m\u001b[0;34m,\u001b[0m \u001b[0ml\u001b[0m\u001b[0;34m]\u001b[0m\u001b[0;34m\u001b[0m\u001b[0m\n\u001b[1;32m     49\u001b[0m \u001b[0;34m\u001b[0m\u001b[0m\n",
      "\u001b[0;32m/Users/Sam/AdPMCMC_project/scripts/utils.py\u001b[0m in \u001b[0;36mgaussian_log_density\u001b[0;34m(y, log_n, sigma_w)\u001b[0m\n\u001b[1;32m     18\u001b[0m     \u001b[0mGaussian\u001b[0m \u001b[0mlog\u001b[0m\u001b[0;34m-\u001b[0m\u001b[0mdensity\u001b[0m \u001b[0;32mfor\u001b[0m \u001b[0mobservation\u001b[0m \u001b[0mprocess\u001b[0m\u001b[0;34m\u001b[0m\u001b[0m\n\u001b[1;32m     19\u001b[0m     \"\"\"\n\u001b[0;32m---> 20\u001b[0;31m     \u001b[0;32mreturn\u001b[0m \u001b[0;34m-\u001b[0m\u001b[0;36m0.5\u001b[0m\u001b[0;34m*\u001b[0m\u001b[0mnp\u001b[0m\u001b[0;34m.\u001b[0m\u001b[0mlog\u001b[0m\u001b[0;34m(\u001b[0m\u001b[0;36m2\u001b[0m\u001b[0;34m*\u001b[0m\u001b[0mnp\u001b[0m\u001b[0;34m.\u001b[0m\u001b[0mpi\u001b[0m\u001b[0;34m*\u001b[0m\u001b[0msigma_w\u001b[0m\u001b[0;34m**\u001b[0m\u001b[0;36m2\u001b[0m\u001b[0;34m)\u001b[0m \u001b[0;34m-\u001b[0m \u001b[0;34m(\u001b[0m\u001b[0my\u001b[0m \u001b[0;34m-\u001b[0m \u001b[0mnp\u001b[0m\u001b[0;34m.\u001b[0m\u001b[0mexp\u001b[0m\u001b[0;34m(\u001b[0m\u001b[0mlog_n\u001b[0m\u001b[0;34m)\u001b[0m\u001b[0;34m)\u001b[0m\u001b[0;34m**\u001b[0m\u001b[0;36m2\u001b[0m\u001b[0;34m/\u001b[0m\u001b[0;34m(\u001b[0m\u001b[0;36m2\u001b[0m\u001b[0;34m*\u001b[0m\u001b[0msigma_w\u001b[0m\u001b[0;34m**\u001b[0m\u001b[0;36m2\u001b[0m\u001b[0;34m)\u001b[0m\u001b[0;34m\u001b[0m\u001b[0m\n\u001b[0m\u001b[1;32m     21\u001b[0m \u001b[0;34m\u001b[0m\u001b[0m\n\u001b[1;32m     22\u001b[0m \u001b[0;32mdef\u001b[0m \u001b[0mstratified_resampling\u001b[0m\u001b[0;34m(\u001b[0m\u001b[0mweights\u001b[0m\u001b[0;34m)\u001b[0m\u001b[0;34m:\u001b[0m\u001b[0;34m\u001b[0m\u001b[0m\n",
      "\u001b[0;31mKeyboardInterrupt\u001b[0m: "
     ]
    }
   ],
   "source": [
    "n_steps = 1000\n",
    "L = 300\n",
    "\n",
    "# adaptive rate \n",
    "adaptive_rate = 0.5  # set to 0 -> non-adaptive proposal\n",
    "\n",
    "theta_hist_nutria = AdPMCMC_M0(n_steps, T, adaptive_rate, Y_nutria, L, n_0_nutria)"
   ]
  },
  {
   "cell_type": "code",
   "execution_count": null,
   "metadata": {
    "collapsed": true
   },
   "outputs": [],
   "source": [
    "# burn-in time\n",
    "theta_history = np.array(theta_hist_nutria[0:])\n",
    "\n",
    "plt.plot(theta_history[:, 0])"
   ]
  }
 ],
 "metadata": {
  "kernelspec": {
   "display_name": "Python 3",
   "language": "python",
   "name": "python3"
  },
  "language_info": {
   "codemirror_mode": {
    "name": "ipython",
    "version": 3
   },
   "file_extension": ".py",
   "mimetype": "text/x-python",
   "name": "python",
   "nbconvert_exporter": "python",
   "pygments_lexer": "ipython3",
   "version": "3.6.1"
  }
 },
 "nbformat": 4,
 "nbformat_minor": 2
}
